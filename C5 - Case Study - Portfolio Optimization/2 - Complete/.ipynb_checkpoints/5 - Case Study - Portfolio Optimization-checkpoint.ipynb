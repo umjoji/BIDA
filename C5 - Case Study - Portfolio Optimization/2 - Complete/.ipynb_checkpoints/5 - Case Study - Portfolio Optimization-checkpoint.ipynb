{
 "cells": [
  {
   "cell_type": "markdown",
   "id": "2d9df0ff",
   "metadata": {},
   "source": [
    "# Case Study - Portfolio Optimization\n",
    "In this case study, we will build two $10,000 investment portfolios containing four stocks. The first portfolio will have an equal weighting between the stocks. The second portfolio will be optimized with a weighting allocation that provides the best return, adjusted for risk. To build these two portfolios, we will:\n",
    "1. Import two years of data for four stocks\n",
    "2. Build the initial portfolio with equal weighting to each of the stocks\n",
    "3. Analyze and visualize the equal-weighted portfolio\n",
    "4. Generate 10,000 portfolio scenarios with random weighting to each of the stocks\n",
    "5. Identify the optimal portfolio from the scenarios and visualize the results"
   ]
  },
  {
   "cell_type": "markdown",
   "id": "720791ef",
   "metadata": {},
   "source": [
    "## Import Packages & Connect to Data"
   ]
  },
  {
   "cell_type": "code",
   "execution_count": 2,
   "id": "9187de70",
   "metadata": {},
   "outputs": [],
   "source": [
    "# Import packages needed for case study\n",
    "import pandas as pd\n",
    "import numpy as np\n",
    "import pandas_datareader as pdr\n",
    "import matplotlib.pyplot as plt\n",
    "%matplotlib inline"
   ]
  },
  {
   "cell_type": "code",
   "execution_count": null,
   "id": "5792b948",
   "metadata": {},
   "outputs": [],
   "source": [
    "# Set start and end date parameters\n",
    "startdate = '2019-01-01'\n",
    "enddate = '2021-12-31'\n",
    "\n",
    "# List the four stock ticker symbols for our portfolio\n",
    "stock_list = ['AMD', 'AAPL', 'MSFT', 'ORCL']\n",
    "\n",
    "# Create an empty dictionary to store our stock info\n",
    "stocks = {}\n",
    "\n",
    "# Loop through each stock in the stock_list and return the Adj Close\n",
    "for i_stock in stock_list:\n",
    "    stocks[i_stock] = pdr.DataReader(i_stock, 'yahoo', startdate, enddate)[['Adj Close']]"
   ]
  },
  {
   "cell_type": "code",
   "execution_count": null,
   "id": "f3619470",
   "metadata": {},
   "outputs": [],
   "source": [
    "# Examine the 'AMD' Adj Close from the stocks dictionary\n",
    "stocks['AMD'].head()"
   ]
  },
  {
   "cell_type": "markdown",
   "id": "2733fc05",
   "metadata": {},
   "source": [
    "## Create the Equal-Weighted Portfolio\n",
    "To create the equal-weighted portfolio, we need to add some additional columns to the DataFrames in the `stocks` dictionary. The three columns that we will build are:\n",
    "* Normalized Return = Adjusted Close / Adjusted Close on the `startdate` of the portfolio\n",
    "* Allocation = Normalized Return * 0.25 (equal weighting for each of the four stocks)\n",
    "* Position Value = Allocation * 10,000 (value of the portfolio)"
   ]
  },
  {
   "cell_type": "code",
   "execution_count": null,
   "id": "3f5388a1",
   "metadata": {},
   "outputs": [],
   "source": [
    "# Create 'Normalized Return' column for each stock\n",
    "for stock_name, stock_data in stocks.items():\n",
    "    first_adj_close = stock_data.iloc[0]['Adj Close'] # Select the first row from the Adj Close column\n",
    "    stock_data['Normalized Return'] = stock_data['Adj Close'] / first_adj_close # Divide each row by the first Adj Close"
   ]
  },
  {
   "cell_type": "code",
   "execution_count": null,
   "id": "a0ae4ce2",
   "metadata": {},
   "outputs": [],
   "source": [
    "stocks['AAPL'].head()"
   ]
  },
  {
   "cell_type": "code",
   "execution_count": null,
   "id": "8a605d85",
   "metadata": {},
   "outputs": [],
   "source": [
    "# Create allocation for each stock - equally weighted in our initial portfolio\n",
    "for stock_name, stock_data in stocks.items():\n",
    "    stock_data['Allocation'] = stock_data['Normalized Return'] * 0.25"
   ]
  },
  {
   "cell_type": "code",
   "execution_count": null,
   "id": "c89341de",
   "metadata": {},
   "outputs": [],
   "source": [
    "stocks['MSFT'].head()"
   ]
  },
  {
   "cell_type": "code",
   "execution_count": null,
   "id": "4ad751db",
   "metadata": {},
   "outputs": [],
   "source": [
    "# Set the value of the portfolio to $10k\n",
    "for stock_name, stock_data in stocks.items():\n",
    "    stock_data['Position Value'] = stock_data['Allocation'] * 10000"
   ]
  },
  {
   "cell_type": "code",
   "execution_count": null,
   "id": "53c36f9d",
   "metadata": {},
   "outputs": [],
   "source": [
    "stocks['ORCL'].head()"
   ]
  },
  {
   "cell_type": "markdown",
   "id": "26d042b6",
   "metadata": {},
   "source": [
    "## Visualize the Portfolio Performance\n",
    "To visualize the performance of the portfolio, we can create two line charts that show the return of the portfolio, and the return of the individual stocks, over time. Let's build a new DataFrame that contains just the `position value` for each stock, as well as the total value for the portfolio. We can use this DataFrame to create the two visuals."
   ]
  },
  {
   "cell_type": "code",
   "execution_count": null,
   "id": "fc9cadf3",
   "metadata": {},
   "outputs": [],
   "source": [
    "# Create position_values dictionary\n",
    "position_values = {}\n",
    "\n",
    "for stock_name, stock_data in stocks.items():\n",
    "    position_values[stock_name] = stock_data['Position Value']"
   ]
  },
  {
   "cell_type": "code",
   "execution_count": null,
   "id": "3a7ffce6",
   "metadata": {},
   "outputs": [],
   "source": [
    "# Convert the position_values dictionary to a DataFrame\n",
    "position_values = pd.DataFrame(data=position_values)\n",
    "\n",
    "position_values.head()"
   ]
  },
  {
   "cell_type": "code",
   "execution_count": null,
   "id": "c778dba8",
   "metadata": {},
   "outputs": [],
   "source": [
    "# Add 'Total' column to position values, summing the other columns\n",
    "position_values['Total'] = position_values.sum(axis=1)"
   ]
  },
  {
   "cell_type": "code",
   "execution_count": null,
   "id": "9b2d20f8",
   "metadata": {},
   "outputs": [],
   "source": [
    "position_values.head()"
   ]
  },
  {
   "cell_type": "code",
   "execution_count": null,
   "id": "dbee56dd",
   "metadata": {},
   "outputs": [],
   "source": [
    "# View the total portfolio\n",
    "plt.figure(figsize=(12, 8))\n",
    "\n",
    "plt.plot(position_values['Total'])\n",
    "\n",
    "plt.title('Equal-Weighted Portfolio Performance')\n",
    "plt.ylabel('Total Value');"
   ]
  },
  {
   "cell_type": "code",
   "execution_count": null,
   "id": "8a4c4f02",
   "metadata": {},
   "outputs": [],
   "source": [
    "# View the four stocks in the portfolio\n",
    "plt.figure(figsize=(12, 8))\n",
    "\n",
    "plt.plot(position_values.iloc[:,0:4])\n",
    "\n",
    "plt.title('Equal-Weighted Portfolio Stock Performance')\n",
    "plt.ylabel('Total Value');"
   ]
  },
  {
   "cell_type": "markdown",
   "id": "e79bf233",
   "metadata": {},
   "source": [
    "## Calculate Performance Metrics for the Portfolio\n",
    "Now that we have created and visualized the equal-weighted portfolio, we can calculate a few metrics to further measure the performance of the portfolio. We will create five performances metrics:\n",
    " * Cumulative Return\n",
    " * Mean Daily Return\n",
    " * Standard Deviation Daily Return\n",
    " * Sharpe Ratio\n",
    " * Annualized Sharpe Ratio"
   ]
  },
  {
   "cell_type": "code",
   "execution_count": null,
   "id": "1005b5e3",
   "metadata": {},
   "outputs": [],
   "source": [
    "# Define the end and start value of the portfolio\n",
    "end_value = position_values['Total'][-1]\n",
    "start_value = position_values['Total'][0]\n",
    "\n",
    "# Calculate the cumulative portfolio return as a percentage\n",
    "cumulative_return = end_value / start_value - 1\n",
    "\n",
    "print(str(round(cumulative_return*100,2)), '%')"
   ]
  },
  {
   "cell_type": "code",
   "execution_count": null,
   "id": "aafd2d14",
   "metadata": {},
   "outputs": [],
   "source": [
    "# Create a 'Daily Returns' column\n",
    "position_values['Daily Return'] = position_values['Total'].pct_change()\n",
    "\n",
    "position_values.head()"
   ]
  },
  {
   "cell_type": "code",
   "execution_count": null,
   "id": "5879e065",
   "metadata": {},
   "outputs": [],
   "source": [
    "# Calculate the mean Daily Return \n",
    "mean_daily_return = position_values['Daily Return'].mean()\n",
    "\n",
    "print('The mean daily return is:', str(round(mean_daily_return, 4)))"
   ]
  },
  {
   "cell_type": "code",
   "execution_count": null,
   "id": "1138fc75",
   "metadata": {},
   "outputs": [],
   "source": [
    "# Calculate the standard deviation of Daily Return \n",
    "std_daily_return = position_values['Daily Return'].std()\n",
    "\n",
    "print('The std daily return is:', str(round(std_daily_return, 4)))"
   ]
  },
  {
   "cell_type": "markdown",
   "id": "f5ac9439",
   "metadata": {},
   "source": [
    "### Sharpe Ratio\n",
    "Now, let's explore a risk-adjusted return metric called the sharpe ratio. The sharpe ratio helps us quantify how much return we are getting by a given level of risk. When comparing two different investments against the same benchmark, the asset with the higher Sharpe ratio provides a higher return for the same amount of risk or the same return for a lower risk than the other asset. \n",
    "\n",
    "It is calculated by the average return of the portfolio minus a risk free rate (such as government bonds), divided by the standard deviation of the return. In this case, we assume the risk-free rate is close 0 so we're not adding it to the formula."
   ]
  },
  {
   "cell_type": "code",
   "execution_count": null,
   "id": "3693e3dd",
   "metadata": {},
   "outputs": [],
   "source": [
    "# Calculate the sharpe ratio\n",
    "sharpe_ratio = mean_daily_return / std_daily_return\n",
    "\n",
    "sharpe_ratio"
   ]
  },
  {
   "cell_type": "code",
   "execution_count": null,
   "id": "ae5bb80b",
   "metadata": {},
   "outputs": [],
   "source": [
    "# Calculate the annualized sharpe ratio\n",
    "sharpe_ratio_annualized = sharpe_ratio * 252**0.5\n",
    "\n",
    "sharpe_ratio_annualized"
   ]
  },
  {
   "cell_type": "markdown",
   "id": "de803160",
   "metadata": {},
   "source": [
    "## Prepare Scenarios to Optimize Portfolio Weighting\n",
    "We need to prepare our data ahead of generating our scenarios to optimize the portfolio weighting. We will:\n",
    " * Create a dictionary containing the adjusted close for each of our stocks: stock_adj_close\n",
    " * Create another dictionary that transforms the adjusted close for each day to a percent change from the previous day"
   ]
  },
  {
   "cell_type": "code",
   "execution_count": null,
   "id": "434b0dcd",
   "metadata": {},
   "outputs": [],
   "source": [
    "# Create stock_adj_close dictionary\n",
    "stock_adj_close = {}\n",
    "\n",
    "for stock_name, stock_data in stocks.items():\n",
    "    stock_adj_close[stock_name] = stock_data['Adj Close']"
   ]
  },
  {
   "cell_type": "code",
   "execution_count": null,
   "id": "0ffa9762",
   "metadata": {},
   "outputs": [],
   "source": [
    "# Convert the stock_adj_close dictionary to a DataFrame\n",
    "stock_adj_close = pd.DataFrame(data=stock_adj_close)\n",
    "\n",
    "stock_adj_close.head()"
   ]
  },
  {
   "cell_type": "code",
   "execution_count": null,
   "id": "95bf6803",
   "metadata": {},
   "outputs": [],
   "source": [
    "# Create stock_returns DataFrames to see the day over day change in stock value\n",
    "stock_returns = stock_adj_close.pct_change()\n",
    "\n",
    "stock_returns.head()"
   ]
  },
  {
   "cell_type": "markdown",
   "id": "ce3c7f1a",
   "metadata": {},
   "source": [
    "## Build & Run 10,000 Portfolio Scenarios\n",
    "Now that we've prepared our data, we're almost ready to run our scenarios. First, we need to build the structures required to generate these scenarios and store the output. To do this, we will use the `numpy.zeros()` function. \n",
    "\n",
    "This function creates arrays that are filled with zeros. After we run the scenarios, we replace these zeros with the corresponding output. The reason we create the arrays with zeros first is to give our arrays the correct shape before we replace them with the correct values.\n",
    "\n",
    "We will create four different arrays:\n",
    " * weights_array - this array will have 10,000 rows and 4 columns and hold the weighting allocation for each stock\n",
    " * returns_array - this array will contain the portfolio return for each scenario\n",
    " * volatility_array - this array will contain the portfolio volatility for each scenario\n",
    " * sharpe_array - this array will contain the sharpe ratio for each scenario"
   ]
  },
  {
   "cell_type": "code",
   "execution_count": null,
   "id": "26aae2af",
   "metadata": {},
   "outputs": [],
   "source": [
    "# Define the number of scenarios and create a blank array to populate stock weightings for each scenario\n",
    "scenarios = 10000\n",
    "\n",
    "weights_array = np.zeros((scenarios, len(stock_returns.columns)))\n",
    "\n",
    "weights_array"
   ]
  },
  {
   "cell_type": "code",
   "execution_count": null,
   "id": "5245589e",
   "metadata": {},
   "outputs": [],
   "source": [
    "# Create additional blank arrays for scenario output\n",
    "returns_array = np.zeros(scenarios)\n",
    "volatility_array = np.zeros(scenarios)\n",
    "sharpe_array = np.zeros(scenarios)"
   ]
  },
  {
   "cell_type": "code",
   "execution_count": null,
   "id": "1815480a",
   "metadata": {},
   "outputs": [],
   "source": [
    "import random\n",
    "random.seed(3)\n",
    "np.random.seed(3)\n",
    "\n",
    "for index in range(scenarios): \n",
    "    # Generate four random numbers for each index\n",
    "    numbers = np.array(np.random.random(4))\n",
    "    \n",
    "    # Divide each number by the sum of the numbers to generate the random weight\n",
    "    weights = numbers / np.sum(numbers)\n",
    "    \n",
    "    # Save the weights in weights_array\n",
    "    weights_array[index,:] = weights\n",
    "    \n",
    "    # Calculate the return for each scenario\n",
    "    returns_array[index] = np.sum(stock_returns.mean()*252*weights)\n",
    "    \n",
    "    # Calculate the expected volatility for each scenario\n",
    "    volatility_array[index] = np.sqrt(np.dot(weights.T,np.dot(stock_returns.cov()*252, weights)))\n",
    "\n",
    "    # Calculate the Sharpe Ratio for each scenario \n",
    "    sharpe_array[index] = returns_array[index] / volatility_array[index]"
   ]
  },
  {
   "cell_type": "code",
   "execution_count": null,
   "id": "119d847f",
   "metadata": {},
   "outputs": [],
   "source": [
    "print(\"The first combination:\", weights_array[0])"
   ]
  },
  {
   "cell_type": "code",
   "execution_count": null,
   "id": "ccd573c2",
   "metadata": {},
   "outputs": [],
   "source": [
    "print(\"The sharpe ratio of the first portfolio:\", sharpe_array[0])"
   ]
  },
  {
   "cell_type": "markdown",
   "id": "47e6455a",
   "metadata": {},
   "source": [
    "## Identify the Optimal Portfolio\n",
    "Now that we have the output for all 10,000 scenarios, we can identify the optimal portfolio. The optimal portfolio in this case study is the portfolio that has the highest sharpe ratio."
   ]
  },
  {
   "cell_type": "code",
   "execution_count": null,
   "id": "54a088bd",
   "metadata": {},
   "outputs": [],
   "source": [
    "# Find the highest sharpe ratio in sharpe_array\n",
    "sharpe_array.max()"
   ]
  },
  {
   "cell_type": "code",
   "execution_count": null,
   "id": "f5d73de5",
   "metadata": {},
   "outputs": [],
   "source": [
    "# Find the index of the optimal portfolio\n",
    "index_max_sharpe = sharpe_array.argmax()\n",
    "index_max_sharpe"
   ]
  },
  {
   "cell_type": "code",
   "execution_count": null,
   "id": "0cb85e68",
   "metadata": {},
   "outputs": [],
   "source": [
    "# Print the optimal weights for each stock\n",
    "print(stock_adj_close.columns)\n",
    "print(weights_array[index_max_sharpe,:])"
   ]
  },
  {
   "cell_type": "markdown",
   "id": "a26b16aa",
   "metadata": {},
   "source": [
    "## Visualize the Optimal Portfolio & Portfolio Scenarios\n",
    "Let's visualize our portfolio scenarios by using a scatter chart. We can use the volatility and returns arrays on each axis to see the relationship between risk and reward. As a final step, we can visualize where the optimal portfolio appears among all of the scenarios."
   ]
  },
  {
   "cell_type": "code",
   "execution_count": null,
   "id": "d02af92e",
   "metadata": {},
   "outputs": [],
   "source": [
    "# Visualize volatility vs returns for each scenario\n",
    "plt.figure(figsize=(12,8))\n",
    "\n",
    "plt.scatter(volatility_array, returns_array, c=sharpe_array, cmap='viridis')\n",
    "\n",
    "plt.colorbar(label='Sharpe Ratio')\n",
    "plt.xlabel('Volatility')\n",
    "plt.ylabel('Return');"
   ]
  },
  {
   "cell_type": "code",
   "execution_count": null,
   "id": "401ebb80",
   "metadata": {},
   "outputs": [],
   "source": [
    "# Identify the optimal portfolio in the returns and volatility arrays\n",
    "max_sharpe_return = returns_array[index_max_sharpe]\n",
    "max_sharpe_volatility = volatility_array[index_max_sharpe]\n",
    "\n",
    "# Visualize volatility vs returns for each scenario\n",
    "plt.figure(figsize=(12,8))\n",
    "\n",
    "plt.scatter(volatility_array, returns_array, c=sharpe_array, cmap='viridis')\n",
    "\n",
    "plt.colorbar(label='Sharpe Ratio')\n",
    "plt.xlabel('Volatility')\n",
    "plt.ylabel('Return')\n",
    "\n",
    "# Add the optimal portfolio to the visual\n",
    "plt.scatter(max_sharpe_volatility, max_sharpe_return, c='orange', edgecolors='black');"
   ]
  }
 ],
 "metadata": {
  "kernelspec": {
   "display_name": "Python 3",
   "language": "python",
   "name": "python3"
  },
  "language_info": {
   "codemirror_mode": {
    "name": "ipython",
    "version": 3
   },
   "file_extension": ".py",
   "mimetype": "text/x-python",
   "name": "python",
   "nbconvert_exporter": "python",
   "pygments_lexer": "ipython3",
   "version": "3.8.8"
  }
 },
 "nbformat": 4,
 "nbformat_minor": 5
}
