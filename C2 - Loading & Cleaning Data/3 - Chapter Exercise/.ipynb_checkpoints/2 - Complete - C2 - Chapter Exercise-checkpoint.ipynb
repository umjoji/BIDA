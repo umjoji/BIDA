{
 "cells": [
  {
   "cell_type": "markdown",
   "id": "1f959112",
   "metadata": {},
   "source": [
    "## Chapter 2 Exercises"
   ]
  },
  {
   "cell_type": "code",
   "execution_count": null,
   "id": "16518321",
   "metadata": {},
   "outputs": [],
   "source": [
    "import numpy as np\n",
    "import pandas as pd"
   ]
  },
  {
   "cell_type": "markdown",
   "id": "50ef200e",
   "metadata": {},
   "source": [
    "1. John owns a cake store that specializes in one product: their family recipe cheesecake. Use the proper function to create a DataFrame from the downloaded .csv file."
   ]
  },
  {
   "cell_type": "code",
   "execution_count": null,
   "id": "10057235",
   "metadata": {
    "scrolled": true
   },
   "outputs": [],
   "source": [
    "df = pd.read_csv('Chapter Exercise Data.csv')\n",
    "df"
   ]
  },
  {
   "cell_type": "markdown",
   "id": "66013baa",
   "metadata": {},
   "source": [
    "The following questions can all be solved by referring to the above DataFrame. You may have to modify or add more data to the DataFrame to solve the questions."
   ]
  },
  {
   "cell_type": "markdown",
   "id": "7f023a95",
   "metadata": {},
   "source": [
    "2. John wants to see each value of an order, rather than the price of each product and the quantity. Write a pandas code that displays the value of each order. HINT - DataFrame columns are series."
   ]
  },
  {
   "cell_type": "code",
   "execution_count": null,
   "id": "17a7261f",
   "metadata": {},
   "outputs": [],
   "source": [
    "df['PricePerItem']*df['Quantity']"
   ]
  },
  {
   "cell_type": "markdown",
   "id": "7f3489e9",
   "metadata": {},
   "source": [
    "3. John realized that there might be potentially null data in his DataFrame. Find the number of null values in his DataFrame in the specific column(s), if any."
   ]
  },
  {
   "cell_type": "code",
   "execution_count": null,
   "id": "4120d3bb",
   "metadata": {},
   "outputs": [],
   "source": [
    "df.info()"
   ]
  },
  {
   "cell_type": "markdown",
   "id": "752919dc",
   "metadata": {},
   "source": [
    "4. John said that if he finds any null values in his data, he wanted to remove it as he believes these are errors in the database. Just to be cautious however, he wants to make a separate copy of the DataFrame of the data without these errors. Create a separate DataFrame that displays only non-null rows."
   ]
  },
  {
   "cell_type": "code",
   "execution_count": null,
   "id": "e94c2da6",
   "metadata": {},
   "outputs": [],
   "source": [
    "df2 = df.dropna()\n",
    "df2"
   ]
  },
  {
   "cell_type": "markdown",
   "id": "55ef08b7",
   "metadata": {},
   "source": [
    "5. John realized that the null values that he had found previously were actually legitimate orders, so he decided to go back and use the original DataFrame. He decided that the best way to fill it is with zero because he is going to deliver it himself. Fill in the null values in the DataFrame."
   ]
  },
  {
   "cell_type": "code",
   "execution_count": null,
   "id": "4d3b7fa8",
   "metadata": {
    "scrolled": true
   },
   "outputs": [],
   "source": [
    "df = df.fillna(0)\n",
    "df"
   ]
  }
 ],
 "metadata": {
  "kernelspec": {
   "display_name": "Python 3 (ipykernel)",
   "language": "python",
   "name": "python3"
  },
  "language_info": {
   "codemirror_mode": {
    "name": "ipython",
    "version": 3
   },
   "file_extension": ".py",
   "mimetype": "text/x-python",
   "name": "python",
   "nbconvert_exporter": "python",
   "pygments_lexer": "ipython3",
   "version": "3.8.11"
  }
 },
 "nbformat": 4,
 "nbformat_minor": 5
}
