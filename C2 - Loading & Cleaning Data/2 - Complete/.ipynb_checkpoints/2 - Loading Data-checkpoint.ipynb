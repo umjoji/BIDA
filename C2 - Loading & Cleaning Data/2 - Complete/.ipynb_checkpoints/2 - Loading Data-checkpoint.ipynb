{
 "cells": [
  {
   "cell_type": "markdown",
   "id": "f5736422",
   "metadata": {},
   "source": [
    "# Loading Data\n",
    "Now that we are more familiar with the NumPy and Pandas packages, we can start loading data into Python to start working with. We can load data into our notebook a few different ways. Four different ways that we'll look at in this notebook are:\n",
    "1. Generating data within our notebook using `np.arange()`\n",
    "2. Generating data within our notebook using `np.random` functions\n",
    "3. Importing external data into our notebook using Pandas DataReader\n",
    "4. Importing an external .csv file into our notebook"
   ]
  },
  {
   "cell_type": "markdown",
   "id": "84a910d4",
   "metadata": {},
   "source": [
    "## Generating Data with NumPy arange\n",
    "\n",
    "In the last chapter, we demonstrated how to create numpy arrays by providing all the values in an array. Numpy also allows us to more efficiently generate a range of values. Let's first look at the `arange()` function that creates a range of intervals. The value 30 that we put inside the parentheses is the ending interval of the array. This means that Array_3 will start at 0, and end before 30."
   ]
  },
  {
   "cell_type": "code",
   "execution_count": 1,
   "id": "166c4ccd",
   "metadata": {},
   "outputs": [
    {
     "data": {
      "text/plain": [
       "array([ 0,  1,  2,  3,  4,  5,  6,  7,  8,  9, 10, 11, 12, 13, 14, 15, 16,\n",
       "       17, 18, 19, 20, 21, 22, 23, 24, 25, 26, 27, 28, 29])"
      ]
     },
     "execution_count": 1,
     "metadata": {},
     "output_type": "execute_result"
    }
   ],
   "source": [
    "import numpy as np\n",
    "Array_3 = np.arange(30)\n",
    "Array_3"
   ]
  },
  {
   "cell_type": "markdown",
   "id": "c81086ea",
   "metadata": {},
   "source": [
    "We can also provide a starting interval, in this case 3, and an ending interval, in this case 7. This array starts at 3 and ends before 7."
   ]
  },
  {
   "cell_type": "code",
   "execution_count": 2,
   "id": "4a207691",
   "metadata": {},
   "outputs": [
    {
     "data": {
      "text/plain": [
       "array([3, 4, 5, 6])"
      ]
     },
     "execution_count": 2,
     "metadata": {},
     "output_type": "execute_result"
    }
   ],
   "source": [
    "np.arange(3,7)"
   ]
  },
  {
   "cell_type": "markdown",
   "id": "9d5632b9",
   "metadata": {},
   "source": [
    "Another information we can add is a step. For example, let's create an array starting at 1, ending at 10, and the 2 step means the range runs every other number. And again, it goes up to but not the last value."
   ]
  },
  {
   "cell_type": "code",
   "execution_count": 3,
   "id": "383b4a2e",
   "metadata": {},
   "outputs": [
    {
     "data": {
      "text/plain": [
       "array([1, 3, 5, 7, 9])"
      ]
     },
     "execution_count": 3,
     "metadata": {},
     "output_type": "execute_result"
    }
   ],
   "source": [
    "# Arrange (starting interval, ending interval, step)\n",
    "np.arange(1,10,2)"
   ]
  },
  {
   "cell_type": "markdown",
   "id": "52d27a7f",
   "metadata": {},
   "source": [
    "The last two examples are arrays consists of a range of integers. We can also gather a range of float values within an interval. For this purpose we'll use the `linspace()` function. This function includes a starting value, an ending value, and the number of items in this array. This example will return 20 values evenly spaced between 0 to 5."
   ]
  },
  {
   "cell_type": "code",
   "execution_count": 4,
   "id": "372bd6c4",
   "metadata": {},
   "outputs": [
    {
     "data": {
      "text/plain": [
       "array([0.        , 0.26315789, 0.52631579, 0.78947368, 1.05263158,\n",
       "       1.31578947, 1.57894737, 1.84210526, 2.10526316, 2.36842105,\n",
       "       2.63157895, 2.89473684, 3.15789474, 3.42105263, 3.68421053,\n",
       "       3.94736842, 4.21052632, 4.47368421, 4.73684211, 5.        ])"
      ]
     },
     "execution_count": 4,
     "metadata": {},
     "output_type": "execute_result"
    }
   ],
   "source": [
    "# Gathering a range of values within an interval can also be done.\n",
    "np.linspace(0,5,20)"
   ]
  },
  {
   "cell_type": "markdown",
   "id": "e93010a9",
   "metadata": {},
   "source": [
    "A range has similar properties as lists and other numpy arrays when it comes to indexing. Let's use Array_3 that we created earlier as an example. To call the 5th value within the array, we call index 4 in the square brackes."
   ]
  },
  {
   "cell_type": "code",
   "execution_count": 5,
   "id": "17edbfca",
   "metadata": {},
   "outputs": [
    {
     "data": {
      "text/plain": [
       "4"
      ]
     },
     "execution_count": 5,
     "metadata": {},
     "output_type": "execute_result"
    }
   ],
   "source": [
    "Array_3[4]"
   ]
  },
  {
   "cell_type": "markdown",
   "id": "2f463351",
   "metadata": {},
   "source": [
    "## Generating Data with NumPy random\n",
    "\n",
    "There are a lot of functions that allow us to generate randomized values in a numpy array. Let start with `random.rand` function. It generates random floats from 0 to 1. In the parentheses we can put how many numbers we want to generate. In this example we generated 10 random floats."
   ]
  },
  {
   "cell_type": "code",
   "execution_count": 6,
   "id": "9564f473",
   "metadata": {},
   "outputs": [
    {
     "data": {
      "text/plain": [
       "array([0.43121926, 0.2482001 , 0.3911309 , 0.09172005, 0.73492845,\n",
       "       0.3906098 , 0.20246405, 0.81191457, 0.98908463, 0.4406104 ])"
      ]
     },
     "execution_count": 6,
     "metadata": {},
     "output_type": "execute_result"
    }
   ],
   "source": [
    "#creating an array of random floats\n",
    "np.random.rand(10)"
   ]
  },
  {
   "cell_type": "markdown",
   "id": "7f426336",
   "metadata": {},
   "source": [
    "Another function we can use is the `random.randint` function. It can be used to gather a random integer within a range. In this example, we will have a random whole number between 10 and 20. It is important to note that this function includes 10 up to 19.  Fixed the code downwards on all other examples."
   ]
  },
  {
   "cell_type": "code",
   "execution_count": 7,
   "id": "7fc975db",
   "metadata": {},
   "outputs": [
    {
     "data": {
      "text/plain": [
       "12"
      ]
     },
     "execution_count": 7,
     "metadata": {},
     "output_type": "execute_result"
    }
   ],
   "source": [
    "# gathering a random interger within a range\n",
    "np.random.randint(10,20)"
   ]
  },
  {
   "cell_type": "markdown",
   "id": "5e75ee25",
   "metadata": {},
   "source": [
    "If we add a number in the end, we can generate a number of random integers wthin this range. This example creates an array of 5 integers in between 10 and 20. We might get repeatative values from the random functions."
   ]
  },
  {
   "cell_type": "code",
   "execution_count": 8,
   "id": "91439a6d",
   "metadata": {},
   "outputs": [
    {
     "data": {
      "text/plain": [
       "array([17, 17, 15, 19, 20])"
      ]
     },
     "execution_count": 8,
     "metadata": {},
     "output_type": "execute_result"
    }
   ],
   "source": [
    "#gathering an array of random intergers within a range\n",
    "np.random.randint(10,21,5)"
   ]
  },
  {
   "cell_type": "markdown",
   "id": "8399cd32",
   "metadata": {},
   "source": [
    "We can also create a random matrix by providing a shape. For example, let's create an array of integers in between 1 and 100, the matrix contains 2 rows and 4 columns. "
   ]
  },
  {
   "cell_type": "code",
   "execution_count": 9,
   "id": "4ae41099",
   "metadata": {},
   "outputs": [
    {
     "data": {
      "text/plain": [
       "array([[92, 31,  9, 30],\n",
       "       [61, 71, 83, 97]])"
      ]
     },
     "execution_count": 9,
     "metadata": {},
     "output_type": "execute_result"
    }
   ],
   "source": [
    "np.random.randint(1,101,(2,4))"
   ]
  },
  {
   "cell_type": "markdown",
   "id": "248d1ccb",
   "metadata": {},
   "source": [
    "Since all the numbers are randomly generated, if we run all of these functions again we're likely to get completely different values. If we want to generate a random number and keep it throughout a model, we can use the seed function.\n",
    "\n",
    "Seed function tells Python under the hood to \"randomize\" from the same method for any computer.  So, it basically eliminates randomness.  We would do this to ensure reproducibiliy.  But in production, randomization helps in forecasting, so you could disable seed there."
   ]
  },
  {
   "cell_type": "code",
   "execution_count": 10,
   "id": "ad90bbc4",
   "metadata": {},
   "outputs": [
    {
     "data": {
      "text/plain": [
       "array([0.18026969, 0.01947524, 0.46321853])"
      ]
     },
     "execution_count": 10,
     "metadata": {},
     "output_type": "execute_result"
    }
   ],
   "source": [
    "#fixing the randomizer to get the same random values for reproduction\n",
    "np.random.seed(11)\n",
    "np.random.rand(3)"
   ]
  },
  {
   "cell_type": "markdown",
   "id": "e3096011",
   "metadata": {},
   "source": [
    "If we remove the seed line, we'll get 3 different values every time we run the code."
   ]
  },
  {
   "cell_type": "code",
   "execution_count": 12,
   "id": "d3d9847a",
   "metadata": {},
   "outputs": [
    {
     "data": {
      "text/plain": [
       "array([0.72493393, 0.4202036 , 0.4854271 ])"
      ]
     },
     "execution_count": 12,
     "metadata": {},
     "output_type": "execute_result"
    }
   ],
   "source": [
    "#without the seed\n",
    "np.random.rand(3)"
   ]
  },
  {
   "cell_type": "markdown",
   "id": "14c3af7d",
   "metadata": {},
   "source": [
    "If we run the same code again, adding back the seed, we get the same result."
   ]
  },
  {
   "cell_type": "code",
   "execution_count": 11,
   "id": "dabb8da6",
   "metadata": {},
   "outputs": [
    {
     "data": {
      "text/plain": [
       "array([0.18026969, 0.01947524, 0.46321853])"
      ]
     },
     "execution_count": 11,
     "metadata": {},
     "output_type": "execute_result"
    }
   ],
   "source": [
    "np.random.seed(11)\n",
    "np.random.rand(3)"
   ]
  },
  {
   "cell_type": "markdown",
   "id": "933ed2e1",
   "metadata": {},
   "source": [
    "## Importing External Data with Pandas DataReader\n",
    "\n",
    "Rather than defining our data manually, we can leverage functionality within Pandas to connect to and import external data into our notebook.\n",
    "\n",
    "Functions from `pandas_datareader.data` extract external data from the web into a Pandas DataFrame. We'll look at two examples of using datareader to import financial data from naver and yahoo."
   ]
  },
  {
   "cell_type": "code",
   "execution_count": 19,
   "id": "4eef7894",
   "metadata": {},
   "outputs": [
    {
     "data": {
      "text/html": [
       "<div>\n",
       "<style scoped>\n",
       "    .dataframe tbody tr th:only-of-type {\n",
       "        vertical-align: middle;\n",
       "    }\n",
       "\n",
       "    .dataframe tbody tr th {\n",
       "        vertical-align: top;\n",
       "    }\n",
       "\n",
       "    .dataframe thead th {\n",
       "        text-align: right;\n",
       "    }\n",
       "</style>\n",
       "<table border=\"1\" class=\"dataframe\">\n",
       "  <thead>\n",
       "    <tr style=\"text-align: right;\">\n",
       "      <th></th>\n",
       "      <th>Open</th>\n",
       "      <th>High</th>\n",
       "      <th>Low</th>\n",
       "      <th>Close</th>\n",
       "      <th>Volume</th>\n",
       "    </tr>\n",
       "    <tr>\n",
       "      <th>Date</th>\n",
       "      <th></th>\n",
       "      <th></th>\n",
       "      <th></th>\n",
       "      <th></th>\n",
       "      <th></th>\n",
       "    </tr>\n",
       "  </thead>\n",
       "  <tbody>\n",
       "    <tr>\n",
       "      <th>2022-01-03</th>\n",
       "      <td>79400</td>\n",
       "      <td>79800</td>\n",
       "      <td>78200</td>\n",
       "      <td>78600</td>\n",
       "      <td>13502112</td>\n",
       "    </tr>\n",
       "    <tr>\n",
       "      <th>2022-01-04</th>\n",
       "      <td>78800</td>\n",
       "      <td>79200</td>\n",
       "      <td>78300</td>\n",
       "      <td>78700</td>\n",
       "      <td>12427416</td>\n",
       "    </tr>\n",
       "    <tr>\n",
       "      <th>2022-01-05</th>\n",
       "      <td>78800</td>\n",
       "      <td>79000</td>\n",
       "      <td>76400</td>\n",
       "      <td>77400</td>\n",
       "      <td>25470640</td>\n",
       "    </tr>\n",
       "    <tr>\n",
       "      <th>2022-01-06</th>\n",
       "      <td>76700</td>\n",
       "      <td>77600</td>\n",
       "      <td>76600</td>\n",
       "      <td>76900</td>\n",
       "      <td>12931954</td>\n",
       "    </tr>\n",
       "    <tr>\n",
       "      <th>2022-01-07</th>\n",
       "      <td>78100</td>\n",
       "      <td>78400</td>\n",
       "      <td>77400</td>\n",
       "      <td>78300</td>\n",
       "      <td>15163757</td>\n",
       "    </tr>\n",
       "    <tr>\n",
       "      <th>2022-01-10</th>\n",
       "      <td>78100</td>\n",
       "      <td>78100</td>\n",
       "      <td>77100</td>\n",
       "      <td>78000</td>\n",
       "      <td>9947422</td>\n",
       "    </tr>\n",
       "    <tr>\n",
       "      <th>2022-01-11</th>\n",
       "      <td>78400</td>\n",
       "      <td>79000</td>\n",
       "      <td>78000</td>\n",
       "      <td>78900</td>\n",
       "      <td>13221123</td>\n",
       "    </tr>\n",
       "    <tr>\n",
       "      <th>2022-01-12</th>\n",
       "      <td>79500</td>\n",
       "      <td>79600</td>\n",
       "      <td>78600</td>\n",
       "      <td>78900</td>\n",
       "      <td>11000502</td>\n",
       "    </tr>\n",
       "    <tr>\n",
       "      <th>2022-01-13</th>\n",
       "      <td>79300</td>\n",
       "      <td>79300</td>\n",
       "      <td>77900</td>\n",
       "      <td>77900</td>\n",
       "      <td>13889401</td>\n",
       "    </tr>\n",
       "    <tr>\n",
       "      <th>2022-01-14</th>\n",
       "      <td>77700</td>\n",
       "      <td>78100</td>\n",
       "      <td>77100</td>\n",
       "      <td>77300</td>\n",
       "      <td>10096725</td>\n",
       "    </tr>\n",
       "    <tr>\n",
       "      <th>2022-01-17</th>\n",
       "      <td>77600</td>\n",
       "      <td>77800</td>\n",
       "      <td>76900</td>\n",
       "      <td>77500</td>\n",
       "      <td>8785122</td>\n",
       "    </tr>\n",
       "    <tr>\n",
       "      <th>2022-01-18</th>\n",
       "      <td>77600</td>\n",
       "      <td>77800</td>\n",
       "      <td>76600</td>\n",
       "      <td>77000</td>\n",
       "      <td>9592788</td>\n",
       "    </tr>\n",
       "    <tr>\n",
       "      <th>2022-01-19</th>\n",
       "      <td>76500</td>\n",
       "      <td>76900</td>\n",
       "      <td>76100</td>\n",
       "      <td>76300</td>\n",
       "      <td>10598290</td>\n",
       "    </tr>\n",
       "    <tr>\n",
       "      <th>2022-01-20</th>\n",
       "      <td>76200</td>\n",
       "      <td>76700</td>\n",
       "      <td>75900</td>\n",
       "      <td>76500</td>\n",
       "      <td>9708168</td>\n",
       "    </tr>\n",
       "    <tr>\n",
       "      <th>2022-01-21</th>\n",
       "      <td>75800</td>\n",
       "      <td>75800</td>\n",
       "      <td>74700</td>\n",
       "      <td>75600</td>\n",
       "      <td>15774888</td>\n",
       "    </tr>\n",
       "    <tr>\n",
       "      <th>2022-01-24</th>\n",
       "      <td>75400</td>\n",
       "      <td>75800</td>\n",
       "      <td>74700</td>\n",
       "      <td>75100</td>\n",
       "      <td>13691134</td>\n",
       "    </tr>\n",
       "    <tr>\n",
       "      <th>2022-01-25</th>\n",
       "      <td>74800</td>\n",
       "      <td>75000</td>\n",
       "      <td>73200</td>\n",
       "      <td>74000</td>\n",
       "      <td>17766704</td>\n",
       "    </tr>\n",
       "    <tr>\n",
       "      <th>2022-01-26</th>\n",
       "      <td>73900</td>\n",
       "      <td>74400</td>\n",
       "      <td>73100</td>\n",
       "      <td>73300</td>\n",
       "      <td>12976730</td>\n",
       "    </tr>\n",
       "    <tr>\n",
       "      <th>2022-01-27</th>\n",
       "      <td>73800</td>\n",
       "      <td>74000</td>\n",
       "      <td>71300</td>\n",
       "      <td>71300</td>\n",
       "      <td>22274777</td>\n",
       "    </tr>\n",
       "    <tr>\n",
       "      <th>2022-01-28</th>\n",
       "      <td>71300</td>\n",
       "      <td>73700</td>\n",
       "      <td>71200</td>\n",
       "      <td>73300</td>\n",
       "      <td>21367447</td>\n",
       "    </tr>\n",
       "  </tbody>\n",
       "</table>\n",
       "</div>"
      ],
      "text/plain": [
       "             Open   High    Low  Close    Volume\n",
       "Date                                            \n",
       "2022-01-03  79400  79800  78200  78600  13502112\n",
       "2022-01-04  78800  79200  78300  78700  12427416\n",
       "2022-01-05  78800  79000  76400  77400  25470640\n",
       "2022-01-06  76700  77600  76600  76900  12931954\n",
       "2022-01-07  78100  78400  77400  78300  15163757\n",
       "2022-01-10  78100  78100  77100  78000   9947422\n",
       "2022-01-11  78400  79000  78000  78900  13221123\n",
       "2022-01-12  79500  79600  78600  78900  11000502\n",
       "2022-01-13  79300  79300  77900  77900  13889401\n",
       "2022-01-14  77700  78100  77100  77300  10096725\n",
       "2022-01-17  77600  77800  76900  77500   8785122\n",
       "2022-01-18  77600  77800  76600  77000   9592788\n",
       "2022-01-19  76500  76900  76100  76300  10598290\n",
       "2022-01-20  76200  76700  75900  76500   9708168\n",
       "2022-01-21  75800  75800  74700  75600  15774888\n",
       "2022-01-24  75400  75800  74700  75100  13691134\n",
       "2022-01-25  74800  75000  73200  74000  17766704\n",
       "2022-01-26  73900  74400  73100  73300  12976730\n",
       "2022-01-27  73800  74000  71300  71300  22274777\n",
       "2022-01-28  71300  73700  71200  73300  21367447"
      ]
     },
     "execution_count": 19,
     "metadata": {},
     "output_type": "execute_result"
    }
   ],
   "source": [
    "# Basic pdr.DataReader() example or explanation\n",
    "import pandas as pd\n",
    "import pandas_datareader.data as pdr\n",
    "\n",
    "# The second argument is the data source we want to connect to - in our example it's naver\n",
    "\n",
    "# The first argument is the specific stock or index we want to retrive data for\n",
    "# 005930 corresponds to Samsung on the KOSPI index\n",
    "\n",
    "# We also need to define the start and end date for the days of information that we want to import into our DataFrame\n",
    "\n",
    "pdr.DataReader('005930', 'naver', '2022-01-01', '2022-01-31')"
   ]
  },
  {
   "cell_type": "markdown",
   "id": "8c661624",
   "metadata": {},
   "source": [
    "We can also use `datareader` to connect to yahoo finance data for a particular stock, in this case an ETF that tracks the S&P 500 stock market index. This time we can define our arguments outside of the function. This will make them easier to find and change in the future. We can also store the resulting DataFrame for future use in our notebook."
   ]
  },
  {
   "cell_type": "code",
   "execution_count": 20,
   "id": "70bf5664",
   "metadata": {},
   "outputs": [
    {
     "name": "stdout",
     "output_type": "stream",
     "text": [
      "                  High         Low        Open       Close     Volume  \\\n",
      "Date                                                                    \n",
      "2022-01-03  477.850006  473.850006  476.299988  477.709991   72668200   \n",
      "2022-01-04  479.980011  475.579987  479.220001  477.549988   71178700   \n",
      "2022-01-05  477.980011  468.279999  477.160004  468.380005  104538900   \n",
      "2022-01-06  470.820007  465.429993  467.890015  467.940002   86858900   \n",
      "2022-01-07  469.200012  464.649994  467.950012  466.089996   85111600   \n",
      "2022-01-10  465.739990  456.600006  462.700012  465.510010  119362000   \n",
      "2022-01-11  469.850006  462.049988  465.230011  469.750000   74303100   \n",
      "2022-01-12  473.200012  468.940002  471.589996  471.019989   67605400   \n",
      "2022-01-13  472.880005  463.440002  472.190002  464.529999   91173100   \n",
      "2022-01-14  465.089996  459.899994  461.190002  464.720001   95890900   \n",
      "2022-01-18  459.959991  455.309998  459.739990  456.489990  109709100   \n",
      "2022-01-19  459.609985  451.459991  458.130005  451.750000  109357600   \n",
      "2022-01-20  458.739990  444.500000  453.750000  446.750000  122379700   \n",
      "2022-01-21  448.059998  437.950012  445.559998  437.980011  202271200   \n",
      "2022-01-24  440.380005  420.760010  432.029999  439.839996  251783900   \n",
      "2022-01-25  439.720001  427.149994  433.059998  434.470001  167997300   \n",
      "2022-01-26  444.040009  428.859985  440.720001  433.380005  186391100   \n",
      "2022-01-27  441.589996  429.450012  438.260010  431.239990  149878300   \n",
      "2022-01-28  442.000000  427.820007  432.679993  441.950012  164457400   \n",
      "2022-01-31  450.279999  439.809998  441.239990  449.910004  152251400   \n",
      "\n",
      "             Adj Close  \n",
      "Date                    \n",
      "2022-01-03  476.230530  \n",
      "2022-01-04  476.071014  \n",
      "2022-01-05  466.929443  \n",
      "2022-01-06  466.490784  \n",
      "2022-01-07  464.646515  \n",
      "2022-01-10  464.068329  \n",
      "2022-01-11  468.295197  \n",
      "2022-01-12  469.561249  \n",
      "2022-01-13  463.091339  \n",
      "2022-01-14  463.280762  \n",
      "2022-01-18  455.076233  \n",
      "2022-01-19  450.350922  \n",
      "2022-01-20  445.366425  \n",
      "2022-01-21  436.623596  \n",
      "2022-01-24  438.477814  \n",
      "2022-01-25  433.124451  \n",
      "2022-01-26  432.037842  \n",
      "2022-01-27  429.904449  \n",
      "2022-01-28  440.581299  \n",
      "2022-01-31  448.516632  \n"
     ]
    }
   ],
   "source": [
    "stock = 'SPY'\n",
    "source = 'yahoo'\n",
    "startdate = '2022-01-01'\n",
    "enddate = '2022-01-31'\n",
    "\n",
    "stocks_df = pdr.DataReader(stock, source, startdate, enddate)\n",
    "\n",
    "print(stocks_df)"
   ]
  },
  {
   "cell_type": "markdown",
   "id": "5bec5826",
   "metadata": {},
   "source": [
    "## Importing External .csv\n",
    "\n",
    "One of the more powerful ways of creating a DataFrame is to import a .csv file. This will save tremendous amount of time in recreating a data source in Python and allow Python to read the data in. We can use the `pd.read.csv()` function to do this.\n",
    "\n",
    "When using this function, either the relative file path or the complete file path must be submitted between quotation marks. For a relative file path, if the csv. file is in the same working directory folder as the notebook, you can simply submit the file name with the csv. suffix. \n",
    "\n",
    "If the file is in another folder, then you must provide extra information of the path pandas should take to refer to the file (ie. 'datafolder/Data Source.csv')."
   ]
  },
  {
   "cell_type": "code",
   "execution_count": 14,
   "id": "8ec98fb0",
   "metadata": {},
   "outputs": [
    {
     "data": {
      "text/html": [
       "<div>\n",
       "<style scoped>\n",
       "    .dataframe tbody tr th:only-of-type {\n",
       "        vertical-align: middle;\n",
       "    }\n",
       "\n",
       "    .dataframe tbody tr th {\n",
       "        vertical-align: top;\n",
       "    }\n",
       "\n",
       "    .dataframe thead th {\n",
       "        text-align: right;\n",
       "    }\n",
       "</style>\n",
       "<table border=\"1\" class=\"dataframe\">\n",
       "  <thead>\n",
       "    <tr style=\"text-align: right;\">\n",
       "      <th></th>\n",
       "      <th>Store</th>\n",
       "      <th>Date</th>\n",
       "      <th>CategoryID</th>\n",
       "      <th>ProductID</th>\n",
       "      <th>Q1</th>\n",
       "      <th>Q2</th>\n",
       "      <th>Q3</th>\n",
       "      <th>Q4</th>\n",
       "    </tr>\n",
       "  </thead>\n",
       "  <tbody>\n",
       "    <tr>\n",
       "      <th>0</th>\n",
       "      <td>1</td>\n",
       "      <td>3/10/2019 0:00:00</td>\n",
       "      <td>1</td>\n",
       "      <td>11XXRP-P</td>\n",
       "      <td>24924.50</td>\n",
       "      <td>46039.49</td>\n",
       "      <td>41595.55</td>\n",
       "      <td>NaN</td>\n",
       "    </tr>\n",
       "    <tr>\n",
       "      <th>1</th>\n",
       "      <td>1</td>\n",
       "      <td>6/4/2019 0:00:00</td>\n",
       "      <td>2</td>\n",
       "      <td>12XXRP-Q</td>\n",
       "      <td>50605.27</td>\n",
       "      <td>44682.74</td>\n",
       "      <td>47928.89</td>\n",
       "      <td>NaN</td>\n",
       "    </tr>\n",
       "    <tr>\n",
       "      <th>2</th>\n",
       "      <td>1</td>\n",
       "      <td>1/16/2019 0:00:00</td>\n",
       "      <td>3</td>\n",
       "      <td>13XXRP</td>\n",
       "      <td>13740.12</td>\n",
       "      <td>10887.84</td>\n",
       "      <td>11523.47</td>\n",
       "      <td>NaN</td>\n",
       "    </tr>\n",
       "    <tr>\n",
       "      <th>3</th>\n",
       "      <td>1</td>\n",
       "      <td>10/18/2019 0:00:00</td>\n",
       "      <td>4</td>\n",
       "      <td>14XXRP</td>\n",
       "      <td>39954.04</td>\n",
       "      <td>d35351.21</td>\n",
       "      <td>36826.95</td>\n",
       "      <td>NaN</td>\n",
       "    </tr>\n",
       "    <tr>\n",
       "      <th>4</th>\n",
       "      <td>1</td>\n",
       "      <td>4/11/2019 0:00:00</td>\n",
       "      <td>5</td>\n",
       "      <td>15XXRP-A</td>\n",
       "      <td>32229.38</td>\n",
       "      <td>29620.81</td>\n",
       "      <td>26468.27</td>\n",
       "      <td>NaN</td>\n",
       "    </tr>\n",
       "    <tr>\n",
       "      <th>...</th>\n",
       "      <td>...</td>\n",
       "      <td>...</td>\n",
       "      <td>...</td>\n",
       "      <td>...</td>\n",
       "      <td>...</td>\n",
       "      <td>...</td>\n",
       "      <td>...</td>\n",
       "      <td>...</td>\n",
       "    </tr>\n",
       "    <tr>\n",
       "      <th>1882</th>\n",
       "      <td>40</td>\n",
       "      <td>3/24/2019 0:00:00</td>\n",
       "      <td>44</td>\n",
       "      <td>4044XXRP</td>\n",
       "      <td>3280.00</td>\n",
       "      <td>3556.22</td>\n",
       "      <td>2965.33</td>\n",
       "      <td>3041.41</td>\n",
       "    </tr>\n",
       "    <tr>\n",
       "      <th>1883</th>\n",
       "      <td>40</td>\n",
       "      <td>3/24/2019 0:00:00</td>\n",
       "      <td>44</td>\n",
       "      <td>4044XXRP</td>\n",
       "      <td>3280.00</td>\n",
       "      <td>3556.22</td>\n",
       "      <td>2965.33</td>\n",
       "      <td>3041.41</td>\n",
       "    </tr>\n",
       "    <tr>\n",
       "      <th>1884</th>\n",
       "      <td>40</td>\n",
       "      <td>3/24/2019 0:00:00</td>\n",
       "      <td>44</td>\n",
       "      <td>4044XXRP</td>\n",
       "      <td>3280.00</td>\n",
       "      <td>3556.22</td>\n",
       "      <td>2965.33</td>\n",
       "      <td>3041.41</td>\n",
       "    </tr>\n",
       "    <tr>\n",
       "      <th>1885</th>\n",
       "      <td>40</td>\n",
       "      <td>9/30/2019 0:00:00</td>\n",
       "      <td>49</td>\n",
       "      <td>4049XXRP</td>\n",
       "      <td>0.00</td>\n",
       "      <td>NaN</td>\n",
       "      <td>NaN</td>\n",
       "      <td>-23.99</td>\n",
       "    </tr>\n",
       "    <tr>\n",
       "      <th>1886</th>\n",
       "      <td>40</td>\n",
       "      <td>6/14/2019 0:00:00</td>\n",
       "      <td>43</td>\n",
       "      <td>4093XXRP</td>\n",
       "      <td>31080.68</td>\n",
       "      <td>26600.39</td>\n",
       "      <td>23709.23</td>\n",
       "      <td>22879.37</td>\n",
       "    </tr>\n",
       "  </tbody>\n",
       "</table>\n",
       "<p>1887 rows × 8 columns</p>\n",
       "</div>"
      ],
      "text/plain": [
       "      Store                Date  CategoryID ProductID        Q1         Q2  \\\n",
       "0         1   3/10/2019 0:00:00           1  11XXRP-P  24924.50   46039.49   \n",
       "1         1    6/4/2019 0:00:00           2  12XXRP-Q  50605.27   44682.74   \n",
       "2         1   1/16/2019 0:00:00           3    13XXRP  13740.12   10887.84   \n",
       "3         1  10/18/2019 0:00:00           4    14XXRP  39954.04  d35351.21   \n",
       "4         1   4/11/2019 0:00:00           5  15XXRP-A  32229.38   29620.81   \n",
       "...     ...                 ...         ...       ...       ...        ...   \n",
       "1882     40   3/24/2019 0:00:00          44  4044XXRP   3280.00    3556.22   \n",
       "1883     40   3/24/2019 0:00:00          44  4044XXRP   3280.00    3556.22   \n",
       "1884     40   3/24/2019 0:00:00          44  4044XXRP   3280.00    3556.22   \n",
       "1885     40   9/30/2019 0:00:00          49  4049XXRP      0.00        NaN   \n",
       "1886     40   6/14/2019 0:00:00          43  4093XXRP  31080.68   26600.39   \n",
       "\n",
       "            Q3        Q4  \n",
       "0     41595.55       NaN  \n",
       "1     47928.89       NaN  \n",
       "2     11523.47       NaN  \n",
       "3     36826.95       NaN  \n",
       "4     26468.27       NaN  \n",
       "...        ...       ...  \n",
       "1882   2965.33   3041.41  \n",
       "1883   2965.33   3041.41  \n",
       "1884   2965.33   3041.41  \n",
       "1885       NaN    -23.99  \n",
       "1886  23709.23  22879.37  \n",
       "\n",
       "[1887 rows x 8 columns]"
      ]
     },
     "execution_count": 14,
     "metadata": {},
     "output_type": "execute_result"
    }
   ],
   "source": [
    "#Importing an external .csv using a relative file path\n",
    "dataframe_3 = pd.read_csv('Data Source.csv')\n",
    "\n",
    "dataframe_3"
   ]
  },
  {
   "cell_type": "markdown",
   "id": "d27abcf3",
   "metadata": {},
   "source": [
    "We will continue to work with .csv data in Python in the next section of this chapter. However, much like what we see in a real-world setting, data is not always perfect. We can see that we have errors in our data, such as NaN values and duplicates."
   ]
  }
 ],
 "metadata": {
  "kernelspec": {
   "display_name": "Python 3 (ipykernel)",
   "language": "python",
   "name": "python3"
  },
  "language_info": {
   "codemirror_mode": {
    "name": "ipython",
    "version": 3
   },
   "file_extension": ".py",
   "mimetype": "text/x-python",
   "name": "python",
   "nbconvert_exporter": "python",
   "pygments_lexer": "ipython3",
   "version": "3.8.11"
  }
 },
 "nbformat": 4,
 "nbformat_minor": 5
}
