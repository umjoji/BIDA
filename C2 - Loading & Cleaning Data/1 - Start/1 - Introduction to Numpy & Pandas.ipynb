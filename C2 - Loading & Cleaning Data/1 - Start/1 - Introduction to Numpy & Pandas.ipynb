{
 "cells": [
  {
   "cell_type": "markdown",
   "id": "6c93a39f",
   "metadata": {},
   "source": [
    "# Introduction to NumPy & Pandas"
   ]
  },
  {
   "cell_type": "markdown",
   "id": "8f335139",
   "metadata": {},
   "source": [
    "# NumPy\n",
    "NumPy is a python library used for working with large, multi-dimentional arrays. It also has a large collection of mathmatical functions to operate on these arrays. Some uses of NumPy include:\n",
    "1. Scientific domains of statistical computing, image processing, and mathematical analysis\n",
    "2. Data Science for ETL, Exploratory Data Analysis, and Modeling\n",
    "3. Machine Learning\n",
    "4. Data Visualization\n",
    "\n",
    "Let's import numpy as np."
   ]
  },
  {
   "cell_type": "code",
   "execution_count": null,
   "id": "350fb354",
   "metadata": {},
   "outputs": [],
   "source": []
  },
  {
   "cell_type": "markdown",
   "id": "35fa9411",
   "metadata": {},
   "source": [
    "## NumPy Array\n",
    "Let's create an array using the function np.array, and include 3 values in square brackets. You might find the Numpy arrays similar to Python lists that we discussed in the last chapter. The difference is that Numpy arrays perform faster and are more memory efficient. That makes it much easier to process large data sets that are commonly used in machine learning models."
   ]
  },
  {
   "cell_type": "code",
   "execution_count": null,
   "id": "a0d2c5d4",
   "metadata": {},
   "outputs": [],
   "source": []
  },
  {
   "cell_type": "markdown",
   "id": "7ceb5183",
   "metadata": {},
   "source": [
    "With the array function, we can also create a matrix of values. Let's create an Array_1 with 2 groups of numbers, each group is written within a pair of square brackets. Now let's print Array_1 and we can see the 2 groups listed below."
   ]
  },
  {
   "cell_type": "code",
   "execution_count": null,
   "id": "fa571fd7",
   "metadata": {},
   "outputs": [],
   "source": [
    "# Creating a matrix\n"
   ]
  },
  {
   "cell_type": "markdown",
   "id": "c9129b5c",
   "metadata": {},
   "source": [
    "We can assign an array with other types of data as well. For example, let's create an Array_2 with 4 numbers in one group, and a mix of string and numbers in another group.\n",
    "\n",
    "The result shows that one string value in the array turns all values into strings even if you did not put quotation marks around the numbers. This is different from Python lists where you can have different types of data in one list."
   ]
  },
  {
   "cell_type": "code",
   "execution_count": null,
   "id": "ad8b323c",
   "metadata": {},
   "outputs": [],
   "source": [
    "# Arrays in Python can also have words.\n"
   ]
  },
  {
   "cell_type": "markdown",
   "id": "6eff4290",
   "metadata": {},
   "source": [
    "## Operations with NumPy Arrays\n",
    "Once we create a numpy array, we can use the `numpy.shape` to see the dimension of the array. This is an important function because when we start working with bigger and more complex data sets, it can be important to know its shape. Let's look at the shape of Array_1 that we created earlier. The result tells us this array has 2 rows and 3 columns."
   ]
  },
  {
   "cell_type": "code",
   "execution_count": null,
   "id": "d968dc9a",
   "metadata": {},
   "outputs": [],
   "source": []
  },
  {
   "cell_type": "code",
   "execution_count": null,
   "id": "e7cc24c7",
   "metadata": {
    "scrolled": true
   },
   "outputs": [],
   "source": []
  },
  {
   "cell_type": "markdown",
   "id": "1c2a65f2",
   "metadata": {},
   "source": [
    "To call a particular cell within an array, we use the row and column index to identify the location of the value. Let's try to call the item in row 2 and column 1 and we get the value 4."
   ]
  },
  {
   "cell_type": "code",
   "execution_count": null,
   "id": "3f0856d9",
   "metadata": {},
   "outputs": [],
   "source": [
    "# Calling a particular cell within array [row, column]\n"
   ]
  },
  {
   "cell_type": "code",
   "execution_count": null,
   "id": "84d6871a",
   "metadata": {},
   "outputs": [],
   "source": [
    "# Retrieve the first item (index 0) from the second row (index 1)\n"
   ]
  },
  {
   "cell_type": "markdown",
   "id": "0f1836c9",
   "metadata": {},
   "source": [
    "Now let's look at how to access the minimum or maximum value of an array. Still using Array_1 as an example, we can apply `min()` and `max()` function to find the smallest and the largest values in the array."
   ]
  },
  {
   "cell_type": "code",
   "execution_count": null,
   "id": "af621fd7",
   "metadata": {},
   "outputs": [],
   "source": []
  },
  {
   "cell_type": "markdown",
   "id": "421c72bd",
   "metadata": {},
   "source": [
    "# Pandas\n",
    "\n",
    "The second Python package that we will explore is Pandas. Pandas offers powerful data structures that help analyze and manipulate data. It is an open source Python package that is most widely used for data science and analysis that is built on top of Numpy. \n",
    "\n",
    "Pandas automates tasks that are time consuming and repetitive. Some uses of Pandas include:\n",
    "\n",
    " 1. Data cleaning - systematically clean dirty data\n",
    " 2. Loading and saving data - Easily import data from an external source and export to your local computer\n",
    " 3. Filling data - systematically fill in data\n",
    " 4. Joining data - Merge datasets together\n",
    " 5. Statistical analysis - Run statstistcal analysis on datasets easily"
   ]
  },
  {
   "cell_type": "code",
   "execution_count": null,
   "id": "c7def40e",
   "metadata": {},
   "outputs": [],
   "source": [
    "import pandas as pd"
   ]
  },
  {
   "cell_type": "markdown",
   "id": "21e6983f",
   "metadata": {},
   "source": [
    "## Pandas Series\n",
    "The first type of data structure in Pandas is called series. Series is an one-dimensional array with index labels. It can also hold different types of data. Series can be made from lists, dictionaries, and numpy arrays.\n",
    "\n",
    "Series are useful when trying to make simple and organizied data that can be quickly digested.\n",
    "\n",
    "Consider the code below for different types of data that will be used to create a series."
   ]
  },
  {
   "cell_type": "code",
   "execution_count": null,
   "id": "37ae35cf",
   "metadata": {},
   "outputs": [],
   "source": [
    "markers = ['a','b','c'] \n",
    "list_1 = [12,24,36]\n",
    "array_1 = np.array([15,30,45])\n",
    "dict_1 = {'d':20,'e':40,'f':60}"
   ]
  },
  {
   "cell_type": "markdown",
   "id": "e99467f4",
   "metadata": {},
   "source": [
    "We will first apply `list_1` into a series. Please note that Python is case sensitive and series needs to be written with a capital S."
   ]
  },
  {
   "cell_type": "code",
   "execution_count": null,
   "id": "5be8a8da",
   "metadata": {
    "scrolled": false
   },
   "outputs": [],
   "source": [
    "# Applying list into a series\n"
   ]
  },
  {
   "cell_type": "markdown",
   "id": "a418864d",
   "metadata": {},
   "source": [
    "We see that pandas automatically assigned indexs (0, 1, 2) to the list when the series was created. We can change the index of a series by using the `markers` list we mentioned above by inserting it into the series code."
   ]
  },
  {
   "cell_type": "code",
   "execution_count": null,
   "id": "07dd3f48",
   "metadata": {},
   "outputs": [],
   "source": [
    "# Changing the index of a series\n"
   ]
  },
  {
   "cell_type": "markdown",
   "id": "7f60f921",
   "metadata": {},
   "source": [
    "We can make a series the same way with an array and a dictionary. Using dictionaries to make a series is different, as dictionaries already have their own indicies assigned. The data is inputted the same way, but there is no requirement to add index data."
   ]
  },
  {
   "cell_type": "code",
   "execution_count": null,
   "id": "0f4bbc67",
   "metadata": {
    "scrolled": true
   },
   "outputs": [],
   "source": [
    "# Apply array into a series\n"
   ]
  },
  {
   "cell_type": "code",
   "execution_count": null,
   "id": "5817d847",
   "metadata": {},
   "outputs": [],
   "source": [
    "# Apply dictionary into a series\n"
   ]
  },
  {
   "cell_type": "markdown",
   "id": "0b68935a",
   "metadata": {},
   "source": [
    "We can see that pandas shows what the data type of the series, which in this case is an integer. A series can hold not just integers, but many othe data objects. "
   ]
  },
  {
   "cell_type": "code",
   "execution_count": null,
   "id": "dc555008",
   "metadata": {
    "scrolled": true
   },
   "outputs": [],
   "source": [
    "a = \"Mike\"\n",
    "b = True\n",
    "c = sum\n",
    "pd.Series([a,b,c]) "
   ]
  },
  {
   "cell_type": "markdown",
   "id": "1aefcbec",
   "metadata": {},
   "source": [
    "## Operations with Pandas Series\n",
    "Similar to a dictionary, you can use the index of a series to easily look up values. Consider the following gift shop data. We can access a value by calling the index, similar to a dictionary. If we want to see the sales on magnets. We just need to type the series name, and call magnets in square brackets."
   ]
  },
  {
   "cell_type": "code",
   "execution_count": null,
   "id": "d4993ca0",
   "metadata": {},
   "outputs": [],
   "source": [
    "Gift_shop_salesQ1 = pd.Series(data=[300,550,240,180],index = ['Magnets', \n",
    "                                                              'Coasters',\n",
    "                                                              'Handbags', \n",
    "                                                              'Snacks'])                  \n",
    "Gift_shop_salesQ1"
   ]
  },
  {
   "cell_type": "code",
   "execution_count": null,
   "id": "0f1c7b93",
   "metadata": {
    "scrolled": true
   },
   "outputs": [],
   "source": [
    "# Gather a value by the index\n"
   ]
  },
  {
   "cell_type": "markdown",
   "id": "2ee07d8e",
   "metadata": {},
   "source": [
    "One powerful use of a series is performing series operations. Consider the following Q2 data that has different revenue numbers. We can add the two series (Gift_shop_salesQ1, Gift_shop_salesQ2) together as they have the same index and find the bi-annual revenue numbers."
   ]
  },
  {
   "cell_type": "code",
   "execution_count": null,
   "id": "f4ac351a",
   "metadata": {},
   "outputs": [],
   "source": [
    "Gift_shop_salesQ2 = pd.Series([340,600,225,75],index = ['Magnets', 'Coasters',\n",
    "                                                        'Handbags', 'Snacks'])  \n",
    "Gift_shop_salesQ2"
   ]
  },
  {
   "cell_type": "code",
   "execution_count": null,
   "id": "776256d1",
   "metadata": {
    "scrolled": true
   },
   "outputs": [],
   "source": [
    "Gift_shop_salesQ1 + Gift_shop_salesQ2"
   ]
  },
  {
   "cell_type": "markdown",
   "id": "5131ad3c",
   "metadata": {},
   "source": [
    "However, in instances when you are trying to combine series that have different indicies, only the shared indicies amongst the series will return a value, with the rest being null. Since `Gift_shop_salesQ3` introduced new indicies, these indicies that are not present in all three series are left as null."
   ]
  },
  {
   "cell_type": "code",
   "execution_count": null,
   "id": "42b56bc8",
   "metadata": {},
   "outputs": [],
   "source": [
    "Gift_shop_salesQ3 = pd.Series([480,520,360,40],index = ['Magnets', 'Coasters',\n",
    "                                                        'Handbags', 'Postcards'])  \n",
    "Gift_shop_salesQ3 "
   ]
  },
  {
   "cell_type": "code",
   "execution_count": null,
   "id": "efb56b7c",
   "metadata": {
    "scrolled": false
   },
   "outputs": [],
   "source": [
    "Gift_shop_salesQ1 + Gift_shop_salesQ2 + Gift_shop_salesQ3 "
   ]
  },
  {
   "cell_type": "markdown",
   "id": "329cce46",
   "metadata": {},
   "source": [
    "## Pandas DataFrame\n",
    "\n",
    "By far the most frequent use of pandas is the DataFrame. DataFrame is a 2-dimensional data structure that contains rows and columns of data, similar to an Excel table.\n",
    "\n",
    "DataFrames allow us to leverage the power of pandas in ways mentioned earlier in the lesson, such as to clean the data, manipulate the data, and perform statistical analysis.\n",
    "\n",
    "There are multiple ways of creating a DataFrame. The first method that we will look at is creating it with an array."
   ]
  },
  {
   "cell_type": "code",
   "execution_count": null,
   "id": "c5823060",
   "metadata": {},
   "outputs": [],
   "source": [
    "Frames = np.array([[1,2,3],[4,5,6],[4,5,6],[4,5,6],[4,5,6]])\n",
    "Frames"
   ]
  },
  {
   "cell_type": "markdown",
   "id": "4f5bd45b",
   "metadata": {},
   "source": [
    "There's no labels on the rows and columns of this numpy array. In order to prepare for the DataFrame, we'll create a list called rows with five characters to lable the five rows, and another list called columns with three characters to label the three columns.\n",
    "\n",
    "We will now generate a DataFrame called dataframe_1, which will contain the information from the `Frames` array as well as the row and column names."
   ]
  },
  {
   "cell_type": "code",
   "execution_count": null,
   "id": "17e563da",
   "metadata": {},
   "outputs": [],
   "source": [
    "Rows= ['A', 'B', 'C', 'D', 'E']\n",
    "Columns= ['X', 'Y', 'Z']\n",
    "\n"
   ]
  },
  {
   "cell_type": "code",
   "execution_count": null,
   "id": "858c1b48",
   "metadata": {},
   "outputs": [],
   "source": []
  },
  {
   "cell_type": "markdown",
   "id": "ea8827bb",
   "metadata": {},
   "source": [
    "Similar to a pandas series, DataFrames can store various types of data, such as integers, strings, lists, etc.\n",
    "\n",
    "We will now create a DataFrame with a dictionary. "
   ]
  },
  {
   "cell_type": "code",
   "execution_count": null,
   "id": "1acc2eb1",
   "metadata": {},
   "outputs": [],
   "source": [
    "dictionary_2 = {'Grade':['A','A','B','B','C','C'],\n",
    "                'Price':[125,236,300,300,472,600],\n",
    "                'State':['NY','CA','IL','IL','WI','NV']}\n",
    "\n"
   ]
  },
  {
   "cell_type": "code",
   "execution_count": null,
   "id": "9c6203e0",
   "metadata": {},
   "outputs": [],
   "source": []
  },
  {
   "cell_type": "code",
   "execution_count": null,
   "id": "2a1e83f0",
   "metadata": {},
   "outputs": [],
   "source": []
  }
 ],
 "metadata": {
  "kernelspec": {
   "display_name": "Python 3 (ipykernel)",
   "language": "python",
   "name": "python3"
  },
  "language_info": {
   "codemirror_mode": {
    "name": "ipython",
    "version": 3
   },
   "file_extension": ".py",
   "mimetype": "text/x-python",
   "name": "python",
   "nbconvert_exporter": "python",
   "pygments_lexer": "ipython3",
   "version": "3.8.11"
  }
 },
 "nbformat": 4,
 "nbformat_minor": 5
}
