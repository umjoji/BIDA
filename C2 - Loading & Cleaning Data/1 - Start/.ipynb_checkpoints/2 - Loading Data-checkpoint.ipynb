{
 "cells": [
  {
   "cell_type": "markdown",
   "id": "f5736422",
   "metadata": {},
   "source": [
    "# Loading Data\n",
    "Now that we are more familiar with the NumPy and Pandas packages, we can start loading data into Python to start working with. We can load data into our notebook a few different ways. Four different ways that we'll look at in this notebook are:\n",
    "1. Generating data within our notebook using `np.arange()`\n",
    "2. Generating data within our notebook using `np.random` functions\n",
    "3. Importing external data into our notebook using Pandas DataReader\n",
    "4. Importing an external .csv file into our notebook"
   ]
  },
  {
   "cell_type": "markdown",
   "id": "84a910d4",
   "metadata": {},
   "source": [
    "## Generating Data with NumPy arange\n",
    "\n",
    "In the last chapter, we demonstrated how to create numpy arrays by providing all the values in an array. Numpy also allows us to more efficiently generate a range of values. Let's first look at the `arange()` function that creates a range of intervals. The value 30 that we put inside the parentheses is the ending interval of the array. This means that Array_3 will start at 0, and end before 30."
   ]
  },
  {
   "cell_type": "code",
   "execution_count": null,
   "id": "166c4ccd",
   "metadata": {},
   "outputs": [],
   "source": [
    "import numpy as np\n",
    "Array_3 = np.arange(30)\n",
    "Array_3"
   ]
  },
  {
   "cell_type": "markdown",
   "id": "c81086ea",
   "metadata": {},
   "source": [
    "We can also provide a starting interval, in this case 3, and an ending interval, in this case 7. This array starts at 3 and ends before 7."
   ]
  },
  {
   "cell_type": "code",
   "execution_count": null,
   "id": "4a207691",
   "metadata": {},
   "outputs": [],
   "source": [
    "np.arange(3,7)"
   ]
  },
  {
   "cell_type": "markdown",
   "id": "9d5632b9",
   "metadata": {},
   "source": [
    "Another information we can add is a step. For example, let's create an array starting at 1, ending at 10, and the 2 step means the range runs every other number. And again, it goes up to but not the last value."
   ]
  },
  {
   "cell_type": "code",
   "execution_count": null,
   "id": "383b4a2e",
   "metadata": {},
   "outputs": [],
   "source": [
    "# Arrange (starting interval, ending interval, step)\n"
   ]
  },
  {
   "cell_type": "markdown",
   "id": "52d27a7f",
   "metadata": {},
   "source": [
    "The last two examples are arrays consists of a range of integers. We can also gather a range of float values within an interval. For this purpose we'll use the `linspace()` function. This function includes a starting value, an ending value, and the number of items in this array. This example will return 20 values evenly spaced between 0 to 5."
   ]
  },
  {
   "cell_type": "code",
   "execution_count": null,
   "id": "372bd6c4",
   "metadata": {},
   "outputs": [],
   "source": [
    "# Gathering a range of values within an interval can also be done.\n"
   ]
  },
  {
   "cell_type": "markdown",
   "id": "e93010a9",
   "metadata": {},
   "source": [
    "A range has similar properties as lists and other numpy arrays when it comes to indexing. Let's use Array_3 that we created earlier as an example. To call the 5th value within the array, we call index 4 in the square brackes."
   ]
  },
  {
   "cell_type": "code",
   "execution_count": null,
   "id": "17edbfca",
   "metadata": {},
   "outputs": [],
   "source": []
  },
  {
   "cell_type": "markdown",
   "id": "2f463351",
   "metadata": {},
   "source": [
    "## Generating Data with NumPy random\n",
    "\n",
    "There are a lot of functions that allow us to generate randomized values in a numpy array. Let start with `random.rand` function. It generates random floats from 0 to 1. In the parentheses we can put how many numbers we want to generate. In this example we generated 10 random floats."
   ]
  },
  {
   "cell_type": "code",
   "execution_count": null,
   "id": "9564f473",
   "metadata": {},
   "outputs": [],
   "source": [
    "# creating an array of random floats\n",
    "np.random.rand(10)"
   ]
  },
  {
   "cell_type": "markdown",
   "id": "7f426336",
   "metadata": {},
   "source": [
    "Another function we can use is the `random.randint` function. It can be used to gather a random integer within a range. For example, we will have a random whole number between 10 and 20. It is important to note that this function includes 10 up to 19."
   ]
  },
  {
   "cell_type": "code",
   "execution_count": null,
   "id": "7fc975db",
   "metadata": {
    "scrolled": true
   },
   "outputs": [],
   "source": [
    "# gathering a random interger within a range\n"
   ]
  },
  {
   "cell_type": "markdown",
   "id": "5e75ee25",
   "metadata": {},
   "source": [
    "If we add a number in the end, we can generate a number of random integers wthin this range. This example creates an array of 5 integers in between 10 and 20. We might get repeatative values from the random functions."
   ]
  },
  {
   "cell_type": "code",
   "execution_count": null,
   "id": "91439a6d",
   "metadata": {},
   "outputs": [],
   "source": [
    "# gathering an array of random intergers within a range\n"
   ]
  },
  {
   "cell_type": "markdown",
   "id": "8399cd32",
   "metadata": {},
   "source": [
    "We can also create a random matrix by providing a shape. For example, let's create an array of integers in between 1 and 100, the matrix contains 2 rows and 4 columns. "
   ]
  },
  {
   "cell_type": "code",
   "execution_count": null,
   "id": "4ae41099",
   "metadata": {},
   "outputs": [],
   "source": []
  },
  {
   "cell_type": "markdown",
   "id": "248d1ccb",
   "metadata": {},
   "source": [
    "Since all the numbers are randomly generated, if we run all of these functions again we're likely to get completely different values. If we want to generate a random number and keep it throughout a model, we can use the seed function.\n",
    "\n",
    "Seed function tells Python under the hood to \"randomize\" from the same method for any computer.  So, it basically eliminates randomness.  We would do this to ensure reproducibiliy.  But in production, randomization helps in forecasting, so you could disable seed there."
   ]
  },
  {
   "cell_type": "code",
   "execution_count": null,
   "id": "ad90bbc4",
   "metadata": {},
   "outputs": [],
   "source": [
    "# fixing the randomizer to get the same random values for reproduction\n"
   ]
  },
  {
   "cell_type": "markdown",
   "id": "e3096011",
   "metadata": {},
   "source": [
    "If we remove the seed line, we'll get 3 different values every time we run the code."
   ]
  },
  {
   "cell_type": "code",
   "execution_count": null,
   "id": "d3d9847a",
   "metadata": {},
   "outputs": [],
   "source": [
    "# without the seed\n"
   ]
  },
  {
   "cell_type": "markdown",
   "id": "14c3af7d",
   "metadata": {},
   "source": [
    "If we run the same code again, adding back the seed, we get the same result."
   ]
  },
  {
   "cell_type": "code",
   "execution_count": null,
   "id": "dabb8da6",
   "metadata": {},
   "outputs": [],
   "source": []
  },
  {
   "cell_type": "markdown",
   "id": "933ed2e1",
   "metadata": {},
   "source": [
    "## Importing External Data with Pandas DataReader\n",
    "\n",
    "Rather than defining our data manually, we can leverage functionality within Pandas to connect to and import external data into our notebook.\n",
    "\n",
    "Functions from `pandas_datareader.data` extract external data from the web into a Pandas DataFrame. We'll look at two examples of using datareader to import financial data from naver and yahoo."
   ]
  },
  {
   "cell_type": "code",
   "execution_count": null,
   "id": "4eef7894",
   "metadata": {
    "scrolled": true
   },
   "outputs": [],
   "source": [
    "# Basic pdr.DataReader() example or explanation\n",
    "import pandas as pd\n",
    "import pandas_datareader.data as pdr\n",
    "\n",
    "# The second argument is the data source we want to connect to - in our example it's naver\n",
    "\n",
    "# The first argument is the specific stock or index we want to retrive data for\n",
    "# 005930 corresponds to Samsung on the KOSPI index\n",
    "\n",
    "# We also need to define the start and end date for the days of information that we want to import into our DataFrame\n",
    "\n",
    "pdr.DataReader('005930', 'naver', '2022-01-01', '2022-01-31')"
   ]
  },
  {
   "cell_type": "markdown",
   "id": "8c661624",
   "metadata": {},
   "source": [
    "We can also use `datareader` to connect to yahoo finance data for a particular stock, in this case an ETF that tracks the S&P 500 stock market index. This time we can define our arguments outside of the function. This will make them easier to find and change in the future. We can also store the resulting DataFrame for future use in our notebook."
   ]
  },
  {
   "cell_type": "code",
   "execution_count": null,
   "id": "70bf5664",
   "metadata": {},
   "outputs": [],
   "source": [
    "stock = 'SPY'\n",
    "source = 'yahoo'\n",
    "startdate = '2022-01-01'\n",
    "enddate = '2022-01-31'\n",
    "\n",
    "stocks_df = pdr.DataReader(stock, source, startdate, enddate)\n",
    "\n",
    "print(stocks_df)"
   ]
  },
  {
   "cell_type": "markdown",
   "id": "5bec5826",
   "metadata": {},
   "source": [
    "## Importing External .csv\n",
    "\n",
    "One of the more powerful ways of creating a DataFrame is to import a .csv file. This will save tremendous amount of time in recreating a data source in Python and allow Python to read the data in. We can use the `pd.read.csv()` function to do this.\n",
    "\n",
    "When using this function, either the relative file path or the complete file path must be submitted between quotation marks. For a relative file path, if the csv. file is in the same working directory folder as the notebook, you can simply submit the file name with the csv. suffix. \n",
    "\n",
    "If the file is in another folder, then you must provide extra information of the path pandas should take to refer to the file (ie. 'datafolder/Data Source.csv')."
   ]
  },
  {
   "cell_type": "code",
   "execution_count": null,
   "id": "8ec98fb0",
   "metadata": {
    "scrolled": true
   },
   "outputs": [],
   "source": [
    "#Importing an external .csv using a relative file path\n",
    "dataframe_3 = pd.read_csv('Data Source.csv')\n",
    "\n",
    "dataframe_3"
   ]
  },
  {
   "cell_type": "markdown",
   "id": "d27abcf3",
   "metadata": {},
   "source": [
    "We will continue to work with .csv data in Python in the next section of this chapter. However, much like what we see in a real-world setting, data is not always perfect. We can see that we have errors in our data, such as NaN values and duplicates."
   ]
  }
 ],
 "metadata": {
  "kernelspec": {
   "display_name": "Python 3 (ipykernel)",
   "language": "python",
   "name": "python3"
  },
  "language_info": {
   "codemirror_mode": {
    "name": "ipython",
    "version": 3
   },
   "file_extension": ".py",
   "mimetype": "text/x-python",
   "name": "python",
   "nbconvert_exporter": "python",
   "pygments_lexer": "ipython3",
   "version": "3.8.11"
  }
 },
 "nbformat": 4,
 "nbformat_minor": 5
}
