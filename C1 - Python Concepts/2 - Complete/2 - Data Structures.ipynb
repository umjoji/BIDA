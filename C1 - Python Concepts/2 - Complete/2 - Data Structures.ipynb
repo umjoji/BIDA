{
 "cells": [
  {
   "cell_type": "markdown",
   "metadata": {
    "id": "ReZRgvGr_Yg0"
   },
   "source": [
    "# Data Structures\n",
    "We've looked at variables and types of data - now let's look at data strucutures. We'll look at `lists`, `tuples`, and `dictionaries`. We can use these to structure our data and variables together - which allows us to more easily load, clean, analyze, and visualize our data."
   ]
  },
  {
   "cell_type": "markdown",
   "metadata": {
    "id": "A_VYcUSVqzrq"
   },
   "source": [
    "## Lists\n",
    "A `list` is a group of data points collected in a sequence.  `Lists` are made with brackets `[]`.  \n",
    "\n",
    "In the example below, it's important to have quotes to denote that the list items are strings.  Otherwise, Python will interpret these items as named variables."
   ]
  },
  {
   "cell_type": "code",
   "execution_count": 1,
   "metadata": {
    "colab": {
     "base_uri": "https://localhost:8080/"
    },
    "executionInfo": {
     "elapsed": 268,
     "status": "ok",
     "timestamp": 1653431144568,
     "user": {
      "displayName": "Joseph Yeates",
      "userId": "05262449329418699827"
     },
     "user_tz": 420
    },
    "id": "UFlWXxtE_ghA",
    "outputId": "4a3ccd1a-3cde-4f75-e715-69bd0abd8f19"
   },
   "outputs": [
    {
     "data": {
      "text/plain": [
       "['Yuting', 'John', 'Karina', 'Rahul']"
      ]
     },
     "execution_count": 1,
     "metadata": {},
     "output_type": "execute_result"
    }
   ],
   "source": [
    "list_a = ['Yuting', 'John', 'Karina', 'Rahul']\n",
    "list_a"
   ]
  },
  {
   "cell_type": "markdown",
   "metadata": {
    "id": "0ixKta0Cpzw_"
   },
   "source": [
    "One of the main things that we'll want to do with a list is access the list items. We can do this be using the list index.\n",
    "\n",
    "The index of a list always starts at 0. Thus, Karina is the third item, or index 2, in the list."
   ]
  },
  {
   "cell_type": "code",
   "execution_count": 2,
   "metadata": {
    "colab": {
     "base_uri": "https://localhost:8080/",
     "height": 35
    },
    "executionInfo": {
     "elapsed": 140,
     "status": "ok",
     "timestamp": 1653427337725,
     "user": {
      "displayName": "Joseph Yeates",
      "userId": "05262449329418699827"
     },
     "user_tz": 420
    },
    "id": "X0UFumGnp002",
    "outputId": "fae4c54e-7b9e-4df2-a02a-e87d4838dc93"
   },
   "outputs": [
    {
     "data": {
      "text/plain": [
       "'Karina'"
      ]
     },
     "execution_count": 2,
     "metadata": {},
     "output_type": "execute_result"
    }
   ],
   "source": [
    "list_a[2]"
   ]
  },
  {
   "cell_type": "markdown",
   "metadata": {
    "id": "F2X0PbFBf_fA"
   },
   "source": [
    "A `negative index`, such as -1, references the first item at the end of the list. Calling a negtative index can continue on besides -1.  In this case, the third item from the end of the list is John. "
   ]
  },
  {
   "cell_type": "code",
   "execution_count": 3,
   "metadata": {
    "colab": {
     "base_uri": "https://localhost:8080/",
     "height": 35
    },
    "executionInfo": {
     "elapsed": 158,
     "status": "ok",
     "timestamp": 1653427339240,
     "user": {
      "displayName": "Joseph Yeates",
      "userId": "05262449329418699827"
     },
     "user_tz": 420
    },
    "id": "PXrwyoH9rZPo",
    "outputId": "acea2644-c1f1-49fb-fa55-463a2f0270da"
   },
   "outputs": [
    {
     "data": {
      "text/plain": [
       "'John'"
      ]
     },
     "execution_count": 3,
     "metadata": {},
     "output_type": "execute_result"
    }
   ],
   "source": [
    "list_a[-3]"
   ]
  },
  {
   "cell_type": "markdown",
   "metadata": {
    "id": "OWzv4zKkDYhY"
   },
   "source": [
    "Lists can contain any one data type and combinations of data types. In the following code block, list_b contains numeric data and list_c contains multiple data types."
   ]
  },
  {
   "cell_type": "code",
   "execution_count": 4,
   "metadata": {
    "colab": {
     "base_uri": "https://localhost:8080/"
    },
    "executionInfo": {
     "elapsed": 124,
     "status": "ok",
     "timestamp": 1653429135365,
     "user": {
      "displayName": "Joseph Yeates",
      "userId": "05262449329418699827"
     },
     "user_tz": 420
    },
    "id": "uHbqKH_Ofotx",
    "outputId": "d986c41e-b902-4a58-b5ef-846b50327f4a"
   },
   "outputs": [
    {
     "name": "stdout",
     "output_type": "stream",
     "text": [
      "[12, 11, 13]\n",
      "[1, 'a', True, 2.56]\n"
     ]
    }
   ],
   "source": [
    "# Create a numeric list\n",
    "list_b = [12, 11, 13]\n",
    "print(list_b)\n",
    "\n",
    "# Create a mixed list\n",
    "list_c = [1, 'a', True, 2.56]\n",
    "print(list_c)"
   ]
  },
  {
   "cell_type": "markdown",
   "metadata": {
    "id": "UJ9u9onVsI7U"
   },
   "source": [
    "A list can also contain items other than single points of data. For example, lists can contain other lists. In the example below, list_c contains list_a as well as a further data point of 'Pavel' while list_d contains lists, integers, and string data."
   ]
  },
  {
   "cell_type": "code",
   "execution_count": 5,
   "metadata": {
    "colab": {
     "base_uri": "https://localhost:8080/"
    },
    "executionInfo": {
     "elapsed": 148,
     "status": "ok",
     "timestamp": 1653428128560,
     "user": {
      "displayName": "Joseph Yeates",
      "userId": "05262449329418699827"
     },
     "user_tz": 420
    },
    "id": "XlYY3RlPehUz",
    "outputId": "39e77f0d-3adf-4bbd-bc7a-7eb29c21c050"
   },
   "outputs": [
    {
     "name": "stdout",
     "output_type": "stream",
     "text": [
      "[['Yuting', 'John', 'Karina', 'Rahul'], 'Pavel']\n",
      "[[1, 'a', True, 2.56], [12, 11, 13], 1, 9.63, 'a']\n"
     ]
    }
   ],
   "source": [
    "list_d = [list_a, 'Pavel']\n",
    "print(list_d)\n",
    "\n",
    "list_e = [list_c, list_b, 1, 9.63, 'a']\n",
    "print(list_e)"
   ]
  },
  {
   "cell_type": "markdown",
   "metadata": {
    "id": "Y75X9GLogS6n"
   },
   "source": [
    "We can also combine multiple lists together to form one larger list. Notice how this is different than creating a list of lists, list_f contains six individual data points but contains no lists, as we saw when creating list_d in the above example."
   ]
  },
  {
   "cell_type": "code",
   "execution_count": 6,
   "metadata": {
    "colab": {
     "base_uri": "https://localhost:8080/"
    },
    "executionInfo": {
     "elapsed": 127,
     "status": "ok",
     "timestamp": 1653428228035,
     "user": {
      "displayName": "Joseph Yeates",
      "userId": "05262449329418699827"
     },
     "user_tz": 420
    },
    "id": "bHK2hdSZeX0K",
    "outputId": "2147a40e-5827-416f-9db1-ec05a6ab1c3f"
   },
   "outputs": [
    {
     "name": "stdout",
     "output_type": "stream",
     "text": [
      "['Yuting', 'John', 'Karina', 'Rahul', 12, 11, 13]\n"
     ]
    }
   ],
   "source": [
    "list_f = list_a + list_b\n",
    "print(list_f)"
   ]
  },
  {
   "cell_type": "markdown",
   "metadata": {
    "id": "zUIF6jqksGjJ"
   },
   "source": [
    "## Manipulating Lists\n",
    "The `sort()` function arranges list values in alphabetical or ascending order by default. However, we cannot sort lists that contain different types of data."
   ]
  },
  {
   "cell_type": "code",
   "execution_count": 7,
   "metadata": {
    "colab": {
     "base_uri": "https://localhost:8080/",
     "height": 253
    },
    "executionInfo": {
     "elapsed": 141,
     "status": "error",
     "timestamp": 1653429436253,
     "user": {
      "displayName": "Joseph Yeates",
      "userId": "05262449329418699827"
     },
     "user_tz": 420
    },
    "id": "Jae1S_UpsT5b",
    "outputId": "ea5dae25-b092-414b-cbe9-b75854ba00c7"
   },
   "outputs": [
    {
     "name": "stdout",
     "output_type": "stream",
     "text": [
      "['John', 'Karina', 'Rahul', 'Yuting']\n",
      "[11, 12, 13]\n"
     ]
    },
    {
     "ename": "TypeError",
     "evalue": "'<' not supported between instances of 'str' and 'int'",
     "output_type": "error",
     "traceback": [
      "\u001b[1;31m---------------------------------------------------------------------------\u001b[0m",
      "\u001b[1;31mTypeError\u001b[0m                                 Traceback (most recent call last)",
      "\u001b[1;32mC:\\Users\\JOSEPH~1\\AppData\\Local\\Temp/ipykernel_2696/3148717766.py\u001b[0m in \u001b[0;36m<module>\u001b[1;34m\u001b[0m\n\u001b[0;32m      8\u001b[0m \u001b[1;33m\u001b[0m\u001b[0m\n\u001b[0;32m      9\u001b[0m \u001b[1;31m# Sort a mixed list\u001b[0m\u001b[1;33m\u001b[0m\u001b[1;33m\u001b[0m\u001b[1;33m\u001b[0m\u001b[0m\n\u001b[1;32m---> 10\u001b[1;33m \u001b[0mlist_c\u001b[0m\u001b[1;33m.\u001b[0m\u001b[0msort\u001b[0m\u001b[1;33m(\u001b[0m\u001b[1;33m)\u001b[0m\u001b[1;33m\u001b[0m\u001b[1;33m\u001b[0m\u001b[0m\n\u001b[0m\u001b[0;32m     11\u001b[0m \u001b[0mprint\u001b[0m\u001b[1;33m(\u001b[0m\u001b[0mlist_c\u001b[0m\u001b[1;33m)\u001b[0m\u001b[1;33m\u001b[0m\u001b[1;33m\u001b[0m\u001b[0m\n",
      "\u001b[1;31mTypeError\u001b[0m: '<' not supported between instances of 'str' and 'int'"
     ]
    }
   ],
   "source": [
    "# Sort a string list\n",
    "list_a.sort()\n",
    "print(list_a)\n",
    "\n",
    "# Sort a numeric list\n",
    "list_b.sort()\n",
    "print(list_b)\n",
    "\n",
    "# Sort a mixed list\n",
    "list_c.sort()\n",
    "print(list_c)"
   ]
  },
  {
   "cell_type": "markdown",
   "metadata": {
    "id": "HZlI9isQfui9"
   },
   "source": [
    "If we want to sort a list in reverse order, from largest to smallest value, or reverse alphabetical order, we can use the reverse argument in the `sort()` function."
   ]
  },
  {
   "cell_type": "code",
   "execution_count": 8,
   "metadata": {
    "colab": {
     "base_uri": "https://localhost:8080/"
    },
    "executionInfo": {
     "elapsed": 158,
     "status": "ok",
     "timestamp": 1653431148152,
     "user": {
      "displayName": "Joseph Yeates",
      "userId": "05262449329418699827"
     },
     "user_tz": 420
    },
    "id": "vzI_bok0DU6z",
    "outputId": "8b4f4339-43a9-4966-bb2c-02b0d47a4dc5"
   },
   "outputs": [
    {
     "name": "stdout",
     "output_type": "stream",
     "text": [
      "['Yuting', 'Rahul', 'Karina', 'John']\n"
     ]
    }
   ],
   "source": [
    "# Sort a string list in reverse alphabetical order\n",
    "list_a.sort(reverse = True)\n",
    "print(list_a)"
   ]
  },
  {
   "cell_type": "code",
   "execution_count": 9,
   "metadata": {},
   "outputs": [
    {
     "name": "stdout",
     "output_type": "stream",
     "text": [
      "[13, 12, 11]\n"
     ]
    }
   ],
   "source": [
    "# Sort a numeric list in descending order\n",
    "list_b.sort(reverse = True)\n",
    "print(list_b)"
   ]
  },
  {
   "cell_type": "markdown",
   "metadata": {
    "id": "iW9WX4LpCr7o"
   },
   "source": [
    "A list is mutable, which means that we can edit and update our lists. This is an important point to note - as this ability to update, edit, and delete list items is a benefit of choosing to use this type of data structure. "
   ]
  },
  {
   "cell_type": "code",
   "execution_count": 30,
   "metadata": {
    "colab": {
     "base_uri": "https://localhost:8080/"
    },
    "executionInfo": {
     "elapsed": 118,
     "status": "ok",
     "timestamp": 1653431150893,
     "user": {
      "displayName": "Joseph Yeates",
      "userId": "05262449329418699827"
     },
     "user_tz": 420
    },
    "id": "V7zDH12wCyz9",
    "outputId": "001c34a5-5fd9-4fff-dcec-8279504ad756"
   },
   "outputs": [
    {
     "name": "stdout",
     "output_type": "stream",
     "text": [
      "['Yuting', 'Oscar', 'Karina', 'Rosie']\n"
     ]
    }
   ],
   "source": [
    "# list_a in reverse sort order\n",
    "print(list_a)"
   ]
  },
  {
   "cell_type": "markdown",
   "metadata": {},
   "source": [
    "We can add additional items to a list using the `append()` function."
   ]
  },
  {
   "cell_type": "code",
   "execution_count": 11,
   "metadata": {},
   "outputs": [
    {
     "name": "stdout",
     "output_type": "stream",
     "text": [
      "['Yuting', 'Rahul', 'Karina', 'John', 'Rosie']\n"
     ]
    }
   ],
   "source": [
    "# Append a new item, 'Rosie', to the list\n",
    "list_a.append('Rosie')\n",
    "print(list_a)"
   ]
  },
  {
   "cell_type": "markdown",
   "metadata": {},
   "source": [
    "Stating the index of a list with an `=` sign replaces the value within that index."
   ]
  },
  {
   "cell_type": "code",
   "execution_count": 12,
   "metadata": {},
   "outputs": [
    {
     "name": "stdout",
     "output_type": "stream",
     "text": [
      "['Yuting', 'Oscar', 'Karina', 'John', 'Rosie']\n"
     ]
    }
   ],
   "source": [
    "# Replace the second list item, 'Rahul', with 'Oscar'\n",
    "list_a[1] = 'Oscar'\n",
    "print(list_a)"
   ]
  },
  {
   "cell_type": "markdown",
   "metadata": {},
   "source": [
    "`'del'` removes the value within the list and realigns their respective indexes."
   ]
  },
  {
   "cell_type": "code",
   "execution_count": 13,
   "metadata": {},
   "outputs": [
    {
     "name": "stdout",
     "output_type": "stream",
     "text": [
      "['Yuting', 'Oscar', 'Karina', 'Rosie']\n"
     ]
    }
   ],
   "source": [
    "# Delete 'John' from the list\n",
    "del list_a[3]\n",
    "print(list_a)"
   ]
  },
  {
   "cell_type": "markdown",
   "metadata": {
    "id": "2FC_XAsaq6Iy"
   },
   "source": [
    "## Tuples\n",
    "A tuple is a collection of values separated by comma and enclosed in `()`. It can contain all of the same items as a list: different data types as well as lists and tuples themselves."
   ]
  },
  {
   "cell_type": "code",
   "execution_count": 14,
   "metadata": {
    "colab": {
     "base_uri": "https://localhost:8080/"
    },
    "executionInfo": {
     "elapsed": 175,
     "status": "ok",
     "timestamp": 1653444104679,
     "user": {
      "displayName": "Joseph Yeates",
      "userId": "05262449329418699827"
     },
     "user_tz": 420
    },
    "id": "4ym9IYrSq5pP",
    "outputId": "cebdc76e-7861-439d-8f20-9c64f340e07e"
   },
   "outputs": [
    {
     "name": "stdout",
     "output_type": "stream",
     "text": [
      "('a', 'b', 'c')\n"
     ]
    }
   ],
   "source": [
    "# Create a string tuple\n",
    "tuple_a = ('a', 'b', 'c')\n",
    "print(tuple_a)"
   ]
  },
  {
   "cell_type": "code",
   "execution_count": 15,
   "metadata": {},
   "outputs": [
    {
     "name": "stdout",
     "output_type": "stream",
     "text": [
      "(1, 2, 3)\n"
     ]
    }
   ],
   "source": [
    "# Create a numeric tuple\n",
    "tuple_b = (1, 2, 3)\n",
    "print(tuple_b)"
   ]
  },
  {
   "cell_type": "code",
   "execution_count": 16,
   "metadata": {},
   "outputs": [
    {
     "name": "stdout",
     "output_type": "stream",
     "text": [
      "(1, 'a', True, 2.56)\n"
     ]
    }
   ],
   "source": [
    "# Create a mixed tuple\n",
    "tuple_c = (1, 'a', True, 2.56)\n",
    "print(tuple_c)"
   ]
  },
  {
   "cell_type": "code",
   "execution_count": 17,
   "metadata": {},
   "outputs": [
    {
     "name": "stdout",
     "output_type": "stream",
     "text": [
      "((1, 2, 3), ['Yuting', 'Oscar', 'Karina', 'Rosie'], (1, 'a', True, 2.56))\n"
     ]
    }
   ],
   "source": [
    "# Create a tuple of tuples\n",
    "tuple_d = (tuple_b, list_a, tuple_c)\n",
    "print(tuple_d)"
   ]
  },
  {
   "cell_type": "markdown",
   "metadata": {
    "id": "amFcT7LQ5sDx"
   },
   "source": [
    "As well as tuples containing lists, lists can also contain tuples."
   ]
  },
  {
   "cell_type": "code",
   "execution_count": 18,
   "metadata": {
    "colab": {
     "base_uri": "https://localhost:8080/"
    },
    "executionInfo": {
     "elapsed": 162,
     "status": "ok",
     "timestamp": 1653443676902,
     "user": {
      "displayName": "Joseph Yeates",
      "userId": "05262449329418699827"
     },
     "user_tz": 420
    },
    "id": "wWsY8Jyu63fA",
    "outputId": "cfe7ad56-569f-48fa-f390-c47e59d1047f"
   },
   "outputs": [
    {
     "data": {
      "text/plain": [
       "[[[1, 'a', True, 2.56], [13, 12, 11], 1, 9.63, 'a'], (1, 'a', True, 2.56)]"
      ]
     },
     "execution_count": 18,
     "metadata": {},
     "output_type": "execute_result"
    }
   ],
   "source": [
    "list_g = [list_e, tuple_c]\n",
    "list_g"
   ]
  },
  {
   "cell_type": "markdown",
   "metadata": {
    "id": "S4IN6oAo8zVa"
   },
   "source": [
    "Similar to how we combined multiple lists into a larger list, we can do the same thing with tuples."
   ]
  },
  {
   "cell_type": "code",
   "execution_count": 19,
   "metadata": {
    "id": "5O6fkO9W87EC"
   },
   "outputs": [
    {
     "name": "stdout",
     "output_type": "stream",
     "text": [
      "('a', 'b', 'c', 1, 2, 3)\n"
     ]
    }
   ],
   "source": [
    "tuple_e = tuple_a + tuple_b\n",
    "print(tuple_e)"
   ]
  },
  {
   "cell_type": "markdown",
   "metadata": {
    "id": "mM7Pf6f931ve"
   },
   "source": [
    "As we've seen, tuples are similar to lists with one key difference: they are immutable, meaning they cannot be changed. This is important to note, as it can be a benefit of choosing this type of data structure - ensuring that the data can never be altered or deleted."
   ]
  },
  {
   "cell_type": "code",
   "execution_count": 20,
   "metadata": {
    "colab": {
     "base_uri": "https://localhost:8080/",
     "height": 236
    },
    "executionInfo": {
     "elapsed": 162,
     "status": "error",
     "timestamp": 1653444243687,
     "user": {
      "displayName": "Joseph Yeates",
      "userId": "05262449329418699827"
     },
     "user_tz": 420
    },
    "id": "rooWd3dy302b",
    "outputId": "dac51d91-9355-415b-8734-ac7bc0189d9d"
   },
   "outputs": [
    {
     "ename": "AttributeError",
     "evalue": "'tuple' object has no attribute 'append'",
     "output_type": "error",
     "traceback": [
      "\u001b[1;31m---------------------------------------------------------------------------\u001b[0m",
      "\u001b[1;31mAttributeError\u001b[0m                            Traceback (most recent call last)",
      "\u001b[1;32mC:\\Users\\JOSEPH~1\\AppData\\Local\\Temp/ipykernel_2696/2382468013.py\u001b[0m in \u001b[0;36m<module>\u001b[1;34m\u001b[0m\n\u001b[0;32m      1\u001b[0m \u001b[1;31m# Append a new item, 'a', to the tuple\u001b[0m\u001b[1;33m\u001b[0m\u001b[1;33m\u001b[0m\u001b[1;33m\u001b[0m\u001b[0m\n\u001b[1;32m----> 2\u001b[1;33m \u001b[0mtuple_a\u001b[0m\u001b[1;33m.\u001b[0m\u001b[0mappend\u001b[0m\u001b[1;33m(\u001b[0m\u001b[1;34m'a'\u001b[0m\u001b[1;33m)\u001b[0m\u001b[1;33m\u001b[0m\u001b[1;33m\u001b[0m\u001b[0m\n\u001b[0m\u001b[0;32m      3\u001b[0m \u001b[0mprint\u001b[0m\u001b[1;33m(\u001b[0m\u001b[0mtuple_a\u001b[0m\u001b[1;33m)\u001b[0m\u001b[1;33m\u001b[0m\u001b[1;33m\u001b[0m\u001b[0m\n",
      "\u001b[1;31mAttributeError\u001b[0m: 'tuple' object has no attribute 'append'"
     ]
    }
   ],
   "source": [
    "# Append a new item, 'a', to the tuple\n",
    "tuple_a.append('a')\n",
    "print(tuple_a)"
   ]
  },
  {
   "cell_type": "code",
   "execution_count": 21,
   "metadata": {},
   "outputs": [
    {
     "ename": "TypeError",
     "evalue": "'tuple' object does not support item assignment",
     "output_type": "error",
     "traceback": [
      "\u001b[1;31m---------------------------------------------------------------------------\u001b[0m",
      "\u001b[1;31mTypeError\u001b[0m                                 Traceback (most recent call last)",
      "\u001b[1;32mC:\\Users\\JOSEPH~1\\AppData\\Local\\Temp/ipykernel_2696/671349858.py\u001b[0m in \u001b[0;36m<module>\u001b[1;34m\u001b[0m\n\u001b[0;32m      1\u001b[0m \u001b[1;31m# Replace the second tuple item\u001b[0m\u001b[1;33m\u001b[0m\u001b[1;33m\u001b[0m\u001b[1;33m\u001b[0m\u001b[0m\n\u001b[1;32m----> 2\u001b[1;33m \u001b[0mtuple_a\u001b[0m\u001b[1;33m[\u001b[0m\u001b[1;36m1\u001b[0m\u001b[1;33m]\u001b[0m \u001b[1;33m=\u001b[0m \u001b[1;34m'e'\u001b[0m\u001b[1;33m\u001b[0m\u001b[1;33m\u001b[0m\u001b[0m\n\u001b[0m\u001b[0;32m      3\u001b[0m \u001b[0mprint\u001b[0m\u001b[1;33m(\u001b[0m\u001b[0mtuple_a\u001b[0m\u001b[1;33m)\u001b[0m\u001b[1;33m\u001b[0m\u001b[1;33m\u001b[0m\u001b[0m\n",
      "\u001b[1;31mTypeError\u001b[0m: 'tuple' object does not support item assignment"
     ]
    }
   ],
   "source": [
    "# Replace the second tuple item\n",
    "tuple_a[1] = 'e'\n",
    "print(tuple_a)"
   ]
  },
  {
   "cell_type": "code",
   "execution_count": 22,
   "metadata": {},
   "outputs": [
    {
     "ename": "TypeError",
     "evalue": "'tuple' object doesn't support item deletion",
     "output_type": "error",
     "traceback": [
      "\u001b[1;31m---------------------------------------------------------------------------\u001b[0m",
      "\u001b[1;31mTypeError\u001b[0m                                 Traceback (most recent call last)",
      "\u001b[1;32mC:\\Users\\JOSEPH~1\\AppData\\Local\\Temp/ipykernel_2696/3645518731.py\u001b[0m in \u001b[0;36m<module>\u001b[1;34m\u001b[0m\n\u001b[0;32m      1\u001b[0m \u001b[1;31m# Delete an item from the tuple\u001b[0m\u001b[1;33m\u001b[0m\u001b[1;33m\u001b[0m\u001b[1;33m\u001b[0m\u001b[0m\n\u001b[1;32m----> 2\u001b[1;33m \u001b[1;32mdel\u001b[0m \u001b[0mtuple_a\u001b[0m\u001b[1;33m[\u001b[0m\u001b[1;36m3\u001b[0m\u001b[1;33m]\u001b[0m\u001b[1;33m\u001b[0m\u001b[1;33m\u001b[0m\u001b[0m\n\u001b[0m\u001b[0;32m      3\u001b[0m \u001b[0mprint\u001b[0m\u001b[1;33m(\u001b[0m\u001b[0mtuple_a\u001b[0m\u001b[1;33m)\u001b[0m\u001b[1;33m\u001b[0m\u001b[1;33m\u001b[0m\u001b[0m\n",
      "\u001b[1;31mTypeError\u001b[0m: 'tuple' object doesn't support item deletion"
     ]
    }
   ],
   "source": [
    "# Delete an item from the tuple\n",
    "del tuple_a[3]\n",
    "print(tuple_a)"
   ]
  },
  {
   "cell_type": "markdown",
   "metadata": {
    "id": "4WWxMe0kx2B-"
   },
   "source": [
    "## Dictionaries\n",
    "A dictionary is a collection of unordered key value pairs and use `{}`. Dictionaries are mutable, meaning that they can be edited, and can be called by both their key or index. We can use the key as an index in the dictionary to return the values associated with that key."
   ]
  },
  {
   "cell_type": "code",
   "execution_count": 23,
   "metadata": {},
   "outputs": [
    {
     "name": "stdout",
     "output_type": "stream",
     "text": [
      "{'first_name': 'Frank', 'last_name': 'Park', 'age': 20}\n"
     ]
    }
   ],
   "source": [
    "# A dictionary containing the first name, last name, and age for one person\n",
    "dict_a = {'first_name': 'Frank', 'last_name': 'Park', 'age': 20}\n",
    "print(dict_a)"
   ]
  },
  {
   "cell_type": "code",
   "execution_count": 24,
   "metadata": {},
   "outputs": [
    {
     "data": {
      "text/plain": [
       "'Frank'"
      ]
     },
     "execution_count": 24,
     "metadata": {},
     "output_type": "execute_result"
    }
   ],
   "source": [
    "dict_a['first_name']"
   ]
  },
  {
   "cell_type": "markdown",
   "metadata": {},
   "source": [
    "Dictionaries do not allow duplicates: all key value pairs must be unique. This is different from a list, that can contain duplicate values."
   ]
  },
  {
   "cell_type": "code",
   "execution_count": 25,
   "metadata": {
    "colab": {
     "base_uri": "https://localhost:8080/"
    },
    "executionInfo": {
     "elapsed": 144,
     "status": "ok",
     "timestamp": 1653445790679,
     "user": {
      "displayName": "Joseph Yeates",
      "userId": "05262449329418699827"
     },
     "user_tz": 420
    },
    "id": "QYEV7HN0x7L2",
    "outputId": "1c33b3aa-b120-4e2e-80ed-839495b05ad3"
   },
   "outputs": [
    {
     "name": "stdout",
     "output_type": "stream",
     "text": [
      "['Frank', 'Frank']\n"
     ]
    }
   ],
   "source": [
    "# A list containing duplicate values\n",
    "list_g = ['Frank', 'Frank']\n",
    "print(list_g)"
   ]
  },
  {
   "cell_type": "code",
   "execution_count": 26,
   "metadata": {},
   "outputs": [
    {
     "name": "stdout",
     "output_type": "stream",
     "text": [
      "{'first_name': 'Frank', 'last_name': 'Park', 'age': 20}\n"
     ]
    }
   ],
   "source": [
    "# A dictionary with a duplicate key and value pair\n",
    "dict_b = {'first_name': 'Frank', 'first_name': 'Frank', 'last_name': 'Park', 'age': 20}\n",
    "print(dict_b)"
   ]
  },
  {
   "cell_type": "code",
   "execution_count": 27,
   "metadata": {},
   "outputs": [
    {
     "name": "stdout",
     "output_type": "stream",
     "text": [
      "{'first_name': 'Frank1', 'last_name': 'Park', 'age': 20}\n"
     ]
    }
   ],
   "source": [
    "# A dictionary with a duplicate key, only the last value gets printed\n",
    "dict_c = {'first_name': 'Frank', 'first_name': 'Frank1', 'last_name': 'Park', 'age': 20}\n",
    "print(dict_c)"
   ]
  },
  {
   "cell_type": "markdown",
   "metadata": {
    "id": "LgNoyWzzQw-h"
   },
   "source": [
    "A common method for creating dictionaries is using lists. The list name is the key, and the list items are the values."
   ]
  },
  {
   "cell_type": "code",
   "execution_count": 28,
   "metadata": {
    "colab": {
     "base_uri": "https://localhost:8080/"
    },
    "executionInfo": {
     "elapsed": 418,
     "status": "ok",
     "timestamp": 1653449458543,
     "user": {
      "displayName": "Joseph Yeates",
      "userId": "05262449329418699827"
     },
     "user_tz": 420
    },
    "id": "JTpNlewoQzZV",
    "outputId": "c8a24c90-8bd5-4478-dec8-5ea2dacdc522"
   },
   "outputs": [
    {
     "name": "stdout",
     "output_type": "stream",
     "text": [
      "{'Sales': [100, 200, 240, 400, 100, 500], 'Stores': ['Store A', 'Store B', 'Store A', 'Store C', 'Store D', 'Store B']}\n"
     ]
    }
   ],
   "source": [
    "sales = [100, 200, 240, 400, 100, 500]\n",
    "stores = ['Store A', 'Store B', 'Store A', 'Store C', 'Store D', 'Store B']\n",
    "\n",
    "dict_sales = {'Sales': sales, 'Stores': stores}\n",
    "print(dict_sales)"
   ]
  },
  {
   "cell_type": "markdown",
   "metadata": {},
   "source": [
    " To further inspect all of the items in a dictionary, we can use the `items()` function. We can use the `items()` function when using a `for loop` with a dictionary. This allows us to access both the key and values in a dictionary. We'll see this a little bit later in this chapter."
   ]
  },
  {
   "cell_type": "code",
   "execution_count": 29,
   "metadata": {},
   "outputs": [
    {
     "data": {
      "text/plain": [
       "dict_items([('Sales', [100, 200, 240, 400, 100, 500]), ('Stores', ['Store A', 'Store B', 'Store A', 'Store C', 'Store D', 'Store B'])])"
      ]
     },
     "execution_count": 29,
     "metadata": {},
     "output_type": "execute_result"
    }
   ],
   "source": [
    "dict_sales.items()"
   ]
  }
 ],
 "metadata": {
  "colab": {
   "collapsed_sections": [],
   "name": "2 - Data Structures.ipynb",
   "provenance": []
  },
  "kernelspec": {
   "display_name": "Python 3 (ipykernel)",
   "language": "python",
   "name": "python3"
  },
  "language_info": {
   "codemirror_mode": {
    "name": "ipython",
    "version": 3
   },
   "file_extension": ".py",
   "mimetype": "text/x-python",
   "name": "python",
   "nbconvert_exporter": "python",
   "pygments_lexer": "ipython3",
   "version": "3.8.11"
  }
 },
 "nbformat": 4,
 "nbformat_minor": 1
}
