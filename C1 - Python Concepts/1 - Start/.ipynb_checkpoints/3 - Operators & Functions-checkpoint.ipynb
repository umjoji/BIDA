{
 "cells": [
  {
   "cell_type": "markdown",
   "id": "1e735866",
   "metadata": {
    "id": "1e735866"
   },
   "source": [
    "# Operators\n",
    "In Python, operators are used on variables and values to perform operations. These operators are the foundations of your Python code and will be used to create the logic that the code will follow.\n",
    "\n",
    "The three most common types of operators are:\n",
    "\n",
    " 1. Mathematical \n",
    " 2. Logical \n",
    " 3. Comparison "
   ]
  },
  {
   "cell_type": "markdown",
   "id": "8d212d6c",
   "metadata": {
    "id": "8d212d6c"
   },
   "source": [
    "## Mathematical Operators\n",
    "Mathematical operators are used to perform common mathematical operations. Python automatically populates the result from the expression that uses these operators."
   ]
  },
  {
   "cell_type": "markdown",
   "id": "f934c559",
   "metadata": {
    "id": "f934c559"
   },
   "source": [
    " `+` Adds the expression on either side"
   ]
  },
  {
   "cell_type": "code",
   "execution_count": null,
   "id": "7d559132",
   "metadata": {
    "id": "7d559132",
    "outputId": "3e1388e6-43f7-4ae8-b3d6-81bac6ecdd5c"
   },
   "outputs": [],
   "source": []
  },
  {
   "cell_type": "markdown",
   "id": "ce25f157",
   "metadata": {
    "id": "ce25f157"
   },
   "source": [
    "`-` Subtracts the expression from left side from the other side"
   ]
  },
  {
   "cell_type": "code",
   "execution_count": null,
   "id": "71a1681e",
   "metadata": {
    "id": "71a1681e",
    "outputId": "b700254b-2d8d-40fd-ab2d-3bf74b4a8934",
    "scrolled": true
   },
   "outputs": [],
   "source": []
  },
  {
   "cell_type": "markdown",
   "id": "db1a8a67",
   "metadata": {
    "id": "db1a8a67"
   },
   "source": [
    "`*` Multiples the expression on either side"
   ]
  },
  {
   "cell_type": "code",
   "execution_count": null,
   "id": "5f535729",
   "metadata": {
    "id": "5f535729",
    "outputId": "6d5e1db2-c24a-4a0a-ac03-545d138144db"
   },
   "outputs": [],
   "source": []
  },
  {
   "cell_type": "markdown",
   "id": "93b87606",
   "metadata": {
    "id": "93b87606"
   },
   "source": [
    "`/` Divides the numerator (expression on the left) by the denominator (expression on the right)"
   ]
  },
  {
   "cell_type": "code",
   "execution_count": null,
   "id": "74175a2d",
   "metadata": {
    "id": "74175a2d",
    "outputId": "c07c8b0c-9544-4aee-95bd-e241857ac87c",
    "scrolled": true
   },
   "outputs": [],
   "source": []
  },
  {
   "cell_type": "markdown",
   "id": "0dd19b1c",
   "metadata": {
    "id": "0dd19b1c"
   },
   "source": [
    "`%` Divides two expressions and returns the number that is remaining when the remaining number is less than the denominator"
   ]
  },
  {
   "cell_type": "code",
   "execution_count": null,
   "id": "a387c741",
   "metadata": {
    "id": "a387c741",
    "outputId": "aa248f4b-486e-4f6e-cea2-7c4464e9b1ec",
    "scrolled": false
   },
   "outputs": [],
   "source": []
  },
  {
   "cell_type": "markdown",
   "id": "d4c07e6d",
   "metadata": {
    "id": "d4c07e6d"
   },
   "source": [
    "`**` Raises the left expression to the power of the right expression"
   ]
  },
  {
   "cell_type": "code",
   "execution_count": null,
   "id": "230730de",
   "metadata": {
    "id": "230730de",
    "outputId": "c5830f71-6b71-410a-8cda-eb2ce7a174d0"
   },
   "outputs": [],
   "source": []
  },
  {
   "cell_type": "markdown",
   "id": "3f7b5228",
   "metadata": {
    "id": "3f7b5228"
   },
   "source": [
    "Multiple operators can be combined into a single expression. Python evaluates each mathematical expression by following the order of BEDMAS (Brackets, Exponents, Division, Multiplication, Addition, Subtraction).  \n"
   ]
  },
  {
   "cell_type": "code",
   "execution_count": null,
   "id": "4133a564",
   "metadata": {
    "id": "4133a564",
    "outputId": "842611db-a724-4ed1-cdd9-8303e385577c"
   },
   "outputs": [],
   "source": []
  },
  {
   "cell_type": "markdown",
   "id": "b88cedb0",
   "metadata": {
    "id": "b88cedb0"
   },
   "source": [
    "## Comparison Operators\n",
    "Comparison operators are used when there is a need to compare two values. The results are a `boolean` value which is either `True` or `False`."
   ]
  },
  {
   "cell_type": "markdown",
   "id": "ac6d8055",
   "metadata": {
    "id": "ac6d8055"
   },
   "source": [
    "`>` is used to see if the left value is greater than the right."
   ]
  },
  {
   "cell_type": "code",
   "execution_count": null,
   "id": "1fd89f6b",
   "metadata": {
    "id": "1fd89f6b",
    "outputId": "76e781c4-e117-4399-e25d-0a04dce217fe",
    "scrolled": false
   },
   "outputs": [],
   "source": []
  },
  {
   "cell_type": "markdown",
   "id": "ed98f785",
   "metadata": {
    "id": "ed98f785"
   },
   "source": [
    "`<` is used to see if the left value is greater than the left."
   ]
  },
  {
   "cell_type": "code",
   "execution_count": null,
   "id": "6ecc4a99",
   "metadata": {
    "id": "6ecc4a99",
    "outputId": "52e80108-e73b-417e-bb3e-b4104b374457",
    "scrolled": true
   },
   "outputs": [],
   "source": []
  },
  {
   "cell_type": "markdown",
   "id": "d91b6e4f",
   "metadata": {
    "id": "d91b6e4f"
   },
   "source": [
    "`>=` is used to see if the left value is greater than or equal to the right."
   ]
  },
  {
   "cell_type": "code",
   "execution_count": null,
   "id": "2cb9bc47",
   "metadata": {
    "id": "2cb9bc47",
    "outputId": "6197f758-895b-472e-e9aa-4589f082a45c"
   },
   "outputs": [],
   "source": []
  },
  {
   "cell_type": "markdown",
   "id": "18085add",
   "metadata": {
    "id": "18085add"
   },
   "source": [
    "`<=` is used to see if the left value is greater than or equal to the right."
   ]
  },
  {
   "cell_type": "code",
   "execution_count": null,
   "id": "438be72a",
   "metadata": {
    "id": "438be72a",
    "outputId": "85ed2586-3cf6-41cf-ed62-0af331f3df92",
    "scrolled": true
   },
   "outputs": [],
   "source": []
  },
  {
   "cell_type": "markdown",
   "id": "d0f605b5",
   "metadata": {
    "id": "d0f605b5"
   },
   "source": [
    " `==` is used to see if the two values are equal or equivalent. This can both be used for numeric and string values."
   ]
  },
  {
   "cell_type": "code",
   "execution_count": null,
   "id": "5665d19f",
   "metadata": {
    "colab": {
     "base_uri": "https://localhost:8080/"
    },
    "executionInfo": {
     "elapsed": 9,
     "status": "ok",
     "timestamp": 1653432003719,
     "user": {
      "displayName": "John Lee",
      "userId": "02515819222392311164"
     },
     "user_tz": 420
    },
    "id": "5665d19f",
    "outputId": "84b5caac-dbd4-4e01-ca11-986a56403688",
    "scrolled": false
   },
   "outputs": [],
   "source": []
  },
  {
   "cell_type": "code",
   "execution_count": null,
   "id": "IehV1NFCOdRR",
   "metadata": {
    "colab": {
     "base_uri": "https://localhost:8080/"
    },
    "executionInfo": {
     "elapsed": 256,
     "status": "ok",
     "timestamp": 1653432026331,
     "user": {
      "displayName": "John Lee",
      "userId": "02515819222392311164"
     },
     "user_tz": 420
    },
    "id": "IehV1NFCOdRR",
    "outputId": "dc30172b-9d71-4048-94ea-35f800f4f8a3"
   },
   "outputs": [],
   "source": []
  },
  {
   "cell_type": "markdown",
   "id": "8f1ad5b6",
   "metadata": {
    "id": "8f1ad5b6"
   },
   "source": [
    "`!=` is used to see if the two values are not equal."
   ]
  },
  {
   "cell_type": "code",
   "execution_count": null,
   "id": "d9848d11",
   "metadata": {
    "colab": {
     "base_uri": "https://localhost:8080/"
    },
    "executionInfo": {
     "elapsed": 150,
     "status": "ok",
     "timestamp": 1653432060139,
     "user": {
      "displayName": "John Lee",
      "userId": "02515819222392311164"
     },
     "user_tz": 420
    },
    "id": "d9848d11",
    "outputId": "f5e717e5-e640-4883-c6d4-2a969c9415dd",
    "scrolled": true
   },
   "outputs": [],
   "source": []
  },
  {
   "cell_type": "code",
   "execution_count": null,
   "id": "Ru2PtKc0OrbV",
   "metadata": {
    "colab": {
     "base_uri": "https://localhost:8080/"
    },
    "executionInfo": {
     "elapsed": 137,
     "status": "ok",
     "timestamp": 1653432114632,
     "user": {
      "displayName": "John Lee",
      "userId": "02515819222392311164"
     },
     "user_tz": 420
    },
    "id": "Ru2PtKc0OrbV",
    "outputId": "b8b7befd-e10f-4e8e-af6b-2a46e0a627e7"
   },
   "outputs": [],
   "source": []
  },
  {
   "cell_type": "markdown",
   "id": "017496bf",
   "metadata": {
    "id": "017496bf"
   },
   "source": [
    "## Logical Operators\n",
    "Logical operators allow the capability to combine different comparison operators for a more complex result."
   ]
  },
  {
   "cell_type": "markdown",
   "id": "76594320",
   "metadata": {
    "id": "76594320"
   },
   "source": [
    "When using the `and` operator, both conditions need to be satisfied in order to be `True`. \n",
    "For example, a customer may be qualified only if they meet both the revenue requirement AND the order volume requirement."
   ]
  },
  {
   "cell_type": "code",
   "execution_count": null,
   "id": "df042f2f",
   "metadata": {
    "id": "df042f2f",
    "outputId": "7087737f-dc3a-48b8-c86a-b6e8ff34f526"
   },
   "outputs": [],
   "source": [
    "x = 0\n"
   ]
  },
  {
   "cell_type": "markdown",
   "id": "f7a3741e",
   "metadata": {
    "id": "f7a3741e"
   },
   "source": [
    "If not all of the conditions are satisfied, it will return `False`."
   ]
  },
  {
   "cell_type": "code",
   "execution_count": null,
   "id": "718517d4",
   "metadata": {
    "id": "718517d4",
    "outputId": "92e85194-1b9b-4da4-abdc-5354d06d5e86"
   },
   "outputs": [],
   "source": [
    "x = 2\n"
   ]
  },
  {
   "cell_type": "markdown",
   "id": "249c88b6",
   "metadata": {
    "id": "249c88b6"
   },
   "source": [
    "When using the `or` operator, at least one condition needs to be satisfied in order to be `True`. \n",
    "\n",
    "An example of this can be when someone is approved for a credit card if they have an individual income of 60,000 OR a household income of 100,000."
   ]
  },
  {
   "cell_type": "code",
   "execution_count": null,
   "id": "6eda2ca3",
   "metadata": {
    "id": "6eda2ca3",
    "outputId": "2cd801ce-eba0-470d-9cfe-bd578a90e700"
   },
   "outputs": [],
   "source": [
    "x = 0\n"
   ]
  },
  {
   "cell_type": "code",
   "execution_count": null,
   "id": "4b16dbff",
   "metadata": {
    "colab": {
     "base_uri": "https://localhost:8080/"
    },
    "executionInfo": {
     "elapsed": 152,
     "status": "ok",
     "timestamp": 1653432205201,
     "user": {
      "displayName": "John Lee",
      "userId": "02515819222392311164"
     },
     "user_tz": 420
    },
    "id": "4b16dbff",
    "outputId": "e2ede4c5-320d-4786-d820-b186c1f2770e"
   },
   "outputs": [],
   "source": [
    "x = 2\n"
   ]
  },
  {
   "cell_type": "code",
   "execution_count": null,
   "id": "efGUo2h8PUd8",
   "metadata": {
    "colab": {
     "base_uri": "https://localhost:8080/"
    },
    "executionInfo": {
     "elapsed": 184,
     "status": "ok",
     "timestamp": 1653432213632,
     "user": {
      "displayName": "John Lee",
      "userId": "02515819222392311164"
     },
     "user_tz": 420
    },
    "id": "efGUo2h8PUd8",
    "outputId": "4cc1e907-52fc-4356-db52-2110e5ba8734"
   },
   "outputs": [],
   "source": [
    "x = 4\n"
   ]
  },
  {
   "cell_type": "markdown",
   "id": "c289b28e",
   "metadata": {
    "id": "c289b28e"
   },
   "source": [
    "We can also combine the different types of operators to create more complex conditions.\n"
   ]
  },
  {
   "cell_type": "code",
   "execution_count": null,
   "id": "7e01ce46",
   "metadata": {
    "id": "7e01ce46",
    "outputId": "bc4db478-1f22-4eaf-98c6-a83bdc66e9f1",
    "scrolled": false
   },
   "outputs": [],
   "source": [
    "a = 10\n",
    "b = 5\n",
    "c = 20\n",
    "\n"
   ]
  },
  {
   "cell_type": "markdown",
   "id": "jxR1qBqKOdEv",
   "metadata": {
    "id": "jxR1qBqKOdEv"
   },
   "source": [
    "## Functions\n",
    "A function is a block of reusable code that performs a specific task. Now let's explore a few commonly used built-in Python fuctions. These built-in functions provides a wide range of tasks that we can use in our code."
   ]
  },
  {
   "cell_type": "code",
   "execution_count": null,
   "id": "bkKcMQalPSox",
   "metadata": {
    "colab": {
     "base_uri": "https://localhost:8080/"
    },
    "executionInfo": {
     "elapsed": 15,
     "status": "ok",
     "timestamp": 1652980221771,
     "user": {
      "displayName": "Joseph Yeates",
      "userId": "05262449329418699827"
     },
     "user_tz": 420
    },
    "id": "bkKcMQalPSox",
    "outputId": "60cb7825-467f-401d-d83f-467b3ae2bd59"
   },
   "outputs": [],
   "source": [
    "# Returns the maximum value from a group of values\n",
    "(4, 7, 23, 11) "
   ]
  },
  {
   "cell_type": "code",
   "execution_count": null,
   "id": "mCMk7IrAPZkr",
   "metadata": {
    "colab": {
     "base_uri": "https://localhost:8080/"
    },
    "executionInfo": {
     "elapsed": 10,
     "status": "ok",
     "timestamp": 1652980223400,
     "user": {
      "displayName": "Joseph Yeates",
      "userId": "05262449329418699827"
     },
     "user_tz": 420
    },
    "id": "mCMk7IrAPZkr",
    "outputId": "1b8acf2a-d3c3-4067-f965-e81437ddd977"
   },
   "outputs": [],
   "source": [
    "# Returns the minimum value from a group of values\n",
    "(4, 7, 23, 11) "
   ]
  },
  {
   "cell_type": "code",
   "execution_count": null,
   "id": "1U8sg2USPbFv",
   "metadata": {
    "colab": {
     "base_uri": "https://localhost:8080/"
    },
    "executionInfo": {
     "elapsed": 204,
     "status": "ok",
     "timestamp": 1652980224679,
     "user": {
      "displayName": "Joseph Yeates",
      "userId": "05262449329418699827"
     },
     "user_tz": 420
    },
    "id": "1U8sg2USPbFv",
    "outputId": "24f9a74f-f6c0-4533-bfc1-30bbbedef6fe"
   },
   "outputs": [],
   "source": [
    "# Returns the absolute value from a number\n",
    "(-9.4)"
   ]
  },
  {
   "cell_type": "code",
   "execution_count": null,
   "id": "hgpPNVodPc4m",
   "metadata": {
    "colab": {
     "base_uri": "https://localhost:8080/"
    },
    "executionInfo": {
     "elapsed": 201,
     "status": "ok",
     "timestamp": 1652980226129,
     "user": {
      "displayName": "Joseph Yeates",
      "userId": "05262449329418699827"
     },
     "user_tz": 420
    },
    "id": "hgpPNVodPc4m",
    "outputId": "2e2b76c0-44aa-4527-9abc-2ffdd2217075"
   },
   "outputs": [],
   "source": [
    "# Adds all the numbers in a collection data together\n",
    "([1, 2, 3])"
   ]
  },
  {
   "cell_type": "code",
   "execution_count": null,
   "id": "PFmXjU5uPfpV",
   "metadata": {
    "colab": {
     "base_uri": "https://localhost:8080/"
    },
    "executionInfo": {
     "elapsed": 209,
     "status": "ok",
     "timestamp": 1652980227323,
     "user": {
      "displayName": "Joseph Yeates",
      "userId": "05262449329418699827"
     },
     "user_tz": 420
    },
    "id": "PFmXjU5uPfpV",
    "outputId": "061689bd-67d0-44f1-c0cd-dd9863238c58"
   },
   "outputs": [],
   "source": [
    "# Rounds a number to a specific decimal. 2nd input for number of decimal places \n",
    "(4.91278, 2) "
   ]
  },
  {
   "cell_type": "code",
   "execution_count": null,
   "id": "bruqwGMRPhGK",
   "metadata": {
    "colab": {
     "base_uri": "https://localhost:8080/"
    },
    "executionInfo": {
     "elapsed": 224,
     "status": "ok",
     "timestamp": 1652980228992,
     "user": {
      "displayName": "Joseph Yeates",
      "userId": "05262449329418699827"
     },
     "user_tz": 420
    },
    "id": "bruqwGMRPhGK",
    "outputId": "1af66aa5-9ff1-469e-875a-0bfd688c060e"
   },
   "outputs": [],
   "source": [
    "# Returns the first value to the power of the second value. This the equivalent of using **\n",
    "(2 , 3) "
   ]
  },
  {
   "cell_type": "code",
   "execution_count": null,
   "id": "zNLYBrLPPhis",
   "metadata": {
    "colab": {
     "base_uri": "https://localhost:8080/"
    },
    "executionInfo": {
     "elapsed": 195,
     "status": "ok",
     "timestamp": 1652980230231,
     "user": {
      "displayName": "Joseph Yeates",
      "userId": "05262449329418699827"
     },
     "user_tz": 420
    },
    "id": "zNLYBrLPPhis",
    "outputId": "ec2f9bb3-84ef-4bb9-d359-7f8225493639"
   },
   "outputs": [],
   "source": [
    "# Returns the number of values within the list\n",
    "([1, 3, 5, 7, 9])"
   ]
  },
  {
   "cell_type": "markdown",
   "id": "X1oaH3azPJf_",
   "metadata": {
    "id": "X1oaH3azPJf_"
   },
   "source": [
    "## Packages\n",
    "A package (aka library) is a collection of functions. Using external packages allow us to utilize open source code that other people have created so we don't need to write all the code from scratch ourselves.\n",
    "\n",
    "There are various different packages in Python. When we installed Anaconda at the beginning of the course, we've already automatically installed most of the common Python packages so now we can import them directly. There are also some packages that do not come with Anaconda and we need to install them separately. We'll talk about that later."
   ]
  },
  {
   "cell_type": "markdown",
   "id": "GOKSZOwMS66X",
   "metadata": {
    "id": "GOKSZOwMS66X"
   },
   "source": [
    "Let's use the math module as an example. To import this package, we use the import function followed by the package name math. Now we can use functions included in this package. For example, `math.sqrt` is a function that calculates the square root of the number in the parentheses."
   ]
  },
  {
   "cell_type": "code",
   "execution_count": null,
   "id": "ZYY5AMzQPpMt",
   "metadata": {
    "colab": {
     "base_uri": "https://localhost:8080/"
    },
    "executionInfo": {
     "elapsed": 23,
     "status": "ok",
     "timestamp": 1652979806076,
     "user": {
      "displayName": "John Lee",
      "userId": "02515819222392311164"
     },
     "user_tz": 420
    },
    "id": "ZYY5AMzQPpMt",
    "outputId": "38b68bab-de45-4349-9bf9-97ef5712668f"
   },
   "outputs": [],
   "source": []
  },
  {
   "cell_type": "markdown",
   "id": "ZyZFaItIP7pU",
   "metadata": {
    "id": "ZyZFaItIP7pU"
   },
   "source": [
    "When importing packages, they can be called with an alias. For example, let's import `math` as `mth`. When we want to use a function in the package, we can call `mth` instead of the full package name."
   ]
  },
  {
   "cell_type": "code",
   "execution_count": null,
   "id": "Hpb0TWQuPuLK",
   "metadata": {
    "colab": {
     "base_uri": "https://localhost:8080/"
    },
    "executionInfo": {
     "elapsed": 18,
     "status": "ok",
     "timestamp": 1652979806077,
     "user": {
      "displayName": "John Lee",
      "userId": "02515819222392311164"
     },
     "user_tz": 420
    },
    "id": "Hpb0TWQuPuLK",
    "outputId": "c8139ef7-06d3-4e80-c990-b2b4969d004a"
   },
   "outputs": [],
   "source": []
  },
  {
   "cell_type": "markdown",
   "id": "bdcNQixeP8Qn",
   "metadata": {
    "id": "bdcNQixeP8Qn"
   },
   "source": [
    "We can also directly import a function in a package. We use the key word from followed by the package name `math`, and import followed by the function name `sqrt`. This way, there is no need to call math in a separate line. After importing the sqrt function, we can use it to calculate the square root."
   ]
  },
  {
   "cell_type": "code",
   "execution_count": null,
   "id": "k0k_zcSqPwyI",
   "metadata": {
    "colab": {
     "base_uri": "https://localhost:8080/"
    },
    "executionInfo": {
     "elapsed": 14,
     "status": "ok",
     "timestamp": 1652979806077,
     "user": {
      "displayName": "John Lee",
      "userId": "02515819222392311164"
     },
     "user_tz": 420
    },
    "id": "k0k_zcSqPwyI",
    "outputId": "b66bbe3a-845a-4ec2-f94f-1f4f23eb9fa1"
   },
   "outputs": [],
   "source": []
  },
  {
   "cell_type": "markdown",
   "id": "PjdnOIn2P-bB",
   "metadata": {
    "id": "PjdnOIn2P-bB"
   },
   "source": [
    "If you just wanted to import all the functions within the package without calling the package every time, you can consider using `*` to import all functions. This enables us to not have to write out the alias for the math package when using its functions."
   ]
  },
  {
   "cell_type": "code",
   "execution_count": null,
   "id": "pJ_cWzLaPy5q",
   "metadata": {
    "colab": {
     "base_uri": "https://localhost:8080/"
    },
    "executionInfo": {
     "elapsed": 11,
     "status": "ok",
     "timestamp": 1652979806078,
     "user": {
      "displayName": "John Lee",
      "userId": "02515819222392311164"
     },
     "user_tz": 420
    },
    "id": "pJ_cWzLaPy5q",
    "outputId": "7b5447d6-46ba-4412-f079-77a0f47166e9"
   },
   "outputs": [],
   "source": []
  },
  {
   "cell_type": "markdown",
   "id": "Hw659LVaQAun",
   "metadata": {
    "id": "Hw659LVaQAun"
   },
   "source": [
    "If you wanted to get help in what a function does, the `help` function pulls up some of the documentation without having to visit the site. You can look up a specific function or the entire package with the full list of functions."
   ]
  },
  {
   "cell_type": "code",
   "execution_count": null,
   "id": "bmAfzgw6P1Qy",
   "metadata": {
    "colab": {
     "base_uri": "https://localhost:8080/"
    },
    "executionInfo": {
     "elapsed": 8,
     "status": "ok",
     "timestamp": 1652979806078,
     "user": {
      "displayName": "John Lee",
      "userId": "02515819222392311164"
     },
     "user_tz": 420
    },
    "id": "bmAfzgw6P1Qy",
    "outputId": "c42524c8-389a-4d09-a2b7-1fc0113cd1aa"
   },
   "outputs": [],
   "source": []
  },
  {
   "cell_type": "markdown",
   "id": "2e-Y3fa9S-ui",
   "metadata": {
    "id": "2e-Y3fa9S-ui"
   },
   "source": [
    "`Math` is just one example of packages that we can import in Python. Different packages serve different purposes. In this course we will introduce 4 commonly used packages: `Numpy`, `Pandas`, and `Matplotlib`, `Seaborn`."
   ]
  }
 ],
 "metadata": {
  "colab": {
   "collapsed_sections": [],
   "name": "3 - Operators",
   "provenance": []
  },
  "kernelspec": {
   "display_name": "Python 3 (ipykernel)",
   "language": "python",
   "name": "python3"
  },
  "language_info": {
   "codemirror_mode": {
    "name": "ipython",
    "version": 3
   },
   "file_extension": ".py",
   "mimetype": "text/x-python",
   "name": "python",
   "nbconvert_exporter": "python",
   "pygments_lexer": "ipython3",
   "version": "3.8.11"
  }
 },
 "nbformat": 4,
 "nbformat_minor": 5
}
