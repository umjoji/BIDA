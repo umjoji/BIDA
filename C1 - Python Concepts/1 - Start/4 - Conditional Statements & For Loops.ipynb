{
 "cells": [
  {
   "cell_type": "markdown",
   "id": "cc04c4a0",
   "metadata": {
    "id": "cc04c4a0"
   },
   "source": [
    "# Conditional Statements and For Loops\n",
    "A powerful feature of Python is the use of `conditional statements`. The results of a conditional statement can evaluate to `True` or `False` and depending on the answer, different computations or actions are executed."
   ]
  },
  {
   "cell_type": "markdown",
   "id": "20d95472",
   "metadata": {
    "id": "20d95472"
   },
   "source": [
    "## If Statement\n",
    "One of the most common conditional statements are `If Statements`. If statements are used when there is a need to filter a dataset or to perform logical equations in a model.\n",
    "\n",
    "`If Statements` allows the user to use Python to initiate an output that follows a certain logic."
   ]
  },
  {
   "cell_type": "markdown",
   "id": "dc4291da",
   "metadata": {
    "id": "dc4291da"
   },
   "source": [
    "Consider the following example. If the initial condition is met, `a > b`, Python will run print statement below the condition. It is important to indent the action line after the condition. As a rule of thumb, anything after the \":\" should be indented if it corresponds with the condition."
   ]
  },
  {
   "cell_type": "code",
   "execution_count": null,
   "id": "e0ee004e",
   "metadata": {
    "id": "e0ee004e",
    "outputId": "5698254c-921b-45b1-e5f6-25780fab3666"
   },
   "outputs": [],
   "source": []
  },
  {
   "cell_type": "markdown",
   "id": "12571dcb",
   "metadata": {
    "id": "12571dcb"
   },
   "source": [
    "If the condition is NOT met, then Python will not run the code below the if statement."
   ]
  },
  {
   "cell_type": "code",
   "execution_count": null,
   "id": "76a84f3f",
   "metadata": {
    "id": "76a84f3f"
   },
   "outputs": [],
   "source": []
  },
  {
   "cell_type": "markdown",
   "id": "dbc80b96",
   "metadata": {
    "id": "dbc80b96"
   },
   "source": [
    "## Else & Elif Statements\n",
    "Statements that are frequently used in conjunction with `if statements` are `Else` and `Elif`. These statements provide the ability to add additional conditions and actions after the `if statement`."
   ]
  },
  {
   "cell_type": "markdown",
   "id": "743d93f4",
   "metadata": {
    "id": "743d93f4"
   },
   "source": [
    "### Else Statements\n",
    "The `Else` statement allows us to define an alternate action, if the condition is NOT met.\n",
    "\n",
    "Consider a scenario where a customer is classified as `high` if their revenue is greater than 15. The `else` statement can be used to classify the customers that do not meet the `high` revenue criteria as `low`."
   ]
  },
  {
   "cell_type": "code",
   "execution_count": null,
   "id": "23b0e33e",
   "metadata": {
    "id": "23b0e33e",
    "outputId": "e5872803-15b7-4b43-db2c-b5f5a1c8a85a"
   },
   "outputs": [],
   "source": [
    "customer_a = 20\n",
    "\n",
    "if customer_a > 15:\n",
    "    print(\"high\")"
   ]
  },
  {
   "cell_type": "code",
   "execution_count": null,
   "id": "6c58ac4c",
   "metadata": {
    "id": "6c58ac4c",
    "outputId": "5765510e-a405-450d-8445-c96720819f1e",
    "scrolled": true
   },
   "outputs": [],
   "source": [
    "customer_b = 14\n",
    "\n",
    "if customer_b > 15:\n",
    "    print(\"high\")"
   ]
  },
  {
   "cell_type": "markdown",
   "id": "bf944618",
   "metadata": {
    "id": "bf944618"
   },
   "source": [
    "However, we might be interested in determining which customers spend lower than 10 in order to identify potential customers to upsell to. \n",
    "\n",
    "In this instance, the `elif` statement allows multiple conditions and actions to be added in between the `if statement` and the `else` statement. "
   ]
  },
  {
   "cell_type": "code",
   "execution_count": null,
   "id": "a0a38b74",
   "metadata": {
    "id": "a0a38b74",
    "outputId": "3c159be8-42db-4c73-be71-007f8ddd225d"
   },
   "outputs": [],
   "source": [
    "customer_a = 20\n",
    "customer_b = 5\n",
    "customer_c = 10"
   ]
  },
  {
   "cell_type": "markdown",
   "id": "c6210a84",
   "metadata": {
    "id": "c6210a84"
   },
   "source": [
    "We can see now that the customers with revenue below 10 were labelled as low, between 10 and 15 were labelled as med, and over 15 as high. "
   ]
  },
  {
   "cell_type": "markdown",
   "id": "0833b04a",
   "metadata": {
    "id": "0833b04a"
   },
   "source": [
    "## For Loops\n",
    "We have covered examples of when there are only a few variables, like customers a, b, and c. This small number has allowed us to create unique print statements for each customer.\n",
    "\n",
    "However, it is more likely that we would have to work with higher quantities of data, which is more difficult to do manually. To solve this problem efficiently, we can use `for loops`. For loops can be used to iterate over any sequence, such as a list of customers, applying the same logic to each list item.\n",
    "\n",
    "Let's update our previous example and modify it to become a for loop."
   ]
  },
  {
   "cell_type": "code",
   "execution_count": null,
   "id": "0cad3fcb",
   "metadata": {
    "id": "0cad3fcb",
    "outputId": "2dee7740-7f06-4a22-bc63-058738a92ea0"
   },
   "outputs": [],
   "source": [
    "customer_a = 20\n",
    "customer_b = 5\n",
    "customer_c = 10\n",
    "\n",
    "# Customer a\n",
    "if customer_a > 15:\n",
    "    print(\"high\")\n",
    "elif customer_a < 10:\n",
    "    print(\"low\")\n",
    "else:\n",
    "    print(\"med\")\n",
    "\n",
    "# Customer b\n",
    "if customer_b > 15:\n",
    "    print(\"high\")\n",
    "elif customer_b < 10:\n",
    "    print(\"low\")\n",
    "else:\n",
    "    print(\"med\")\n",
    "\n",
    "# Customer c\n",
    "if customer_c > 15:\n",
    "    print(\"high\")\n",
    "elif customer_c < 10:\n",
    "    print(\"low\")\n",
    "else:\n",
    "    print(\"med\")"
   ]
  },
  {
   "cell_type": "markdown",
   "id": "d28450f0",
   "metadata": {
    "id": "d28450f0"
   },
   "source": [
    "We see that in the example above, for each value in the `customer_list`, the `if statement` was implemented. Based on the criteria set, a prompt was printed that corresponds to it. This is a much better use of Python to automate manual tasks."
   ]
  },
  {
   "cell_type": "markdown",
   "id": "a2a25d47",
   "metadata": {
    "id": "a2a25d47"
   },
   "source": [
    "`For loops` can be used in `tuples` and `dictionaries` as well."
   ]
  },
  {
   "cell_type": "code",
   "execution_count": null,
   "id": "df04bc10",
   "metadata": {
    "id": "df04bc10",
    "outputId": "235a8c14-e027-499d-f799-75fabb2cc1a9",
    "scrolled": false
   },
   "outputs": [],
   "source": [
    "# Iterating over a tuple\n",
    "\n",
    "tuple1 = ('John', 10, 25, 30, 50, 'Mary')\n",
    "\n",
    "for i in tuple1:\n",
    "    print(i)"
   ]
  },
  {
   "cell_type": "markdown",
   "id": "1eb81e54",
   "metadata": {
    "id": "1eb81e54"
   },
   "source": [
    "When iterating over a dictionary, keep in mind that data is stored in `key:value` pairs. To get the key, you can simply make a loop as we have done in the previous examples."
   ]
  },
  {
   "cell_type": "code",
   "execution_count": null,
   "id": "efca50e6",
   "metadata": {
    "colab": {
     "base_uri": "https://localhost:8080/"
    },
    "executionInfo": {
     "elapsed": 16,
     "status": "ok",
     "timestamp": 1653433857723,
     "user": {
      "displayName": "John Lee",
      "userId": "02515819222392311164"
     },
     "user_tz": 420
    },
    "id": "efca50e6",
    "outputId": "891ac206-dc10-46c4-f518-6038994c263e"
   },
   "outputs": [],
   "source": [
    "# Defining the electronics dictionary\n",
    "\n",
    "electronics_dict = {\n",
    "  \"brand\": [\"Apple\",\"Microsoft\",\"Lenova\"],\n",
    "  \"product\": [\"phone\",\"laptop\",'tablet'],\n",
    "  \"year\": [2022, 2020, 2010]}\n",
    "\n",
    "electronics_dict"
   ]
  },
  {
   "cell_type": "code",
   "execution_count": null,
   "id": "9a931d08",
   "metadata": {
    "colab": {
     "base_uri": "https://localhost:8080/"
    },
    "executionInfo": {
     "elapsed": 14,
     "status": "ok",
     "timestamp": 1653433857725,
     "user": {
      "displayName": "John Lee",
      "userId": "02515819222392311164"
     },
     "user_tz": 420
    },
    "id": "9a931d08",
    "outputId": "60227130-7535-46d6-de4e-f846403f509f"
   },
   "outputs": [],
   "source": [
    "# Iterating over a dictionary\n",
    "\n",
    "for i_key in electronics_dict:\n",
    "    print(i_key)"
   ]
  },
  {
   "cell_type": "markdown",
   "id": "df1eb6f9",
   "metadata": {
    "id": "df1eb6f9"
   },
   "source": [
    "In order to access the values of the dictionary, you must input the dictionary and reference the key."
   ]
  },
  {
   "cell_type": "code",
   "execution_count": null,
   "id": "e5ecf17b",
   "metadata": {
    "colab": {
     "base_uri": "https://localhost:8080/"
    },
    "executionInfo": {
     "elapsed": 10,
     "status": "ok",
     "timestamp": 1653433857725,
     "user": {
      "displayName": "John Lee",
      "userId": "02515819222392311164"
     },
     "user_tz": 420
    },
    "id": "e5ecf17b",
    "outputId": "db7f79ff-5f24-449a-bd8f-7ec310f81976",
    "scrolled": true
   },
   "outputs": [],
   "source": [
    "# This will print the values of each key\n",
    "\n",
    "for i_key in electronics_dict:\n",
    "    print(electronics_dict[i_key])"
   ]
  },
  {
   "cell_type": "markdown",
   "id": "UyXGYFuoUgnj",
   "metadata": {
    "id": "UyXGYFuoUgnj"
   },
   "source": [
    "Recall that we can use the `items()` function to see which `values` are associated with which `key`."
   ]
  },
  {
   "cell_type": "code",
   "execution_count": null,
   "id": "01102e06",
   "metadata": {
    "id": "01102e06",
    "outputId": "505b029a-3855-4917-b730-053917393164"
   },
   "outputs": [],
   "source": [
    "electronics_dict.items()"
   ]
  },
  {
   "cell_type": "markdown",
   "id": "2d29fe10",
   "metadata": {
    "id": "2d29fe10"
   },
   "source": [
    "To loop through a dictionary and get both the `key:value` pair, the loop must be written in a certain way."
   ]
  },
  {
   "cell_type": "code",
   "execution_count": null,
   "id": "bc89caa9",
   "metadata": {
    "colab": {
     "base_uri": "https://localhost:8080/"
    },
    "executionInfo": {
     "elapsed": 5,
     "status": "ok",
     "timestamp": 1653433961109,
     "user": {
      "displayName": "John Lee",
      "userId": "02515819222392311164"
     },
     "user_tz": 420
    },
    "id": "bc89caa9",
    "outputId": "cbf45094-ff39-49a1-d47a-c3c2555accbe"
   },
   "outputs": [],
   "source": [
    "for i_key, j_value in electronics_dict.items():\n",
    "    print('This is the'+ \" \"+ i_key + \",\"+\" these are the values:\", j_value)"
   ]
  },
  {
   "cell_type": "markdown",
   "id": "1f962dbb",
   "metadata": {
    "id": "1f962dbb"
   },
   "source": [
    "### Nested For Loops\n",
    "An advanced implementation of `for loops` are `nested loops`. `nested loops` are `for loops` that are inside the body of the initial `for loop`. For each iteration of the initial loop, a loop is generated for that variable. Keep in mind that the inner loops have to be indented to be a `nested loop`.\n",
    "\n",
    "Below is an example of a use of a `nested loop` in a dictionary. In the example below, the code iterates through all the key values then printed all the values associated with the key in the dictionary's chronological order. "
   ]
  },
  {
   "cell_type": "code",
   "execution_count": null,
   "id": "acf1fe12",
   "metadata": {
    "id": "acf1fe12",
    "outputId": "1c292da1-709d-4600-bf52-8ebd7b5cff8c",
    "scrolled": false
   },
   "outputs": [],
   "source": [
    "for i_key in electronics_dict:                 # initial loop (each \"i_key\" would be the key of the dictionary)\n",
    "    for j_value in electronics_dict[i_key]:    # inner loop (each \"j_value\" would be the values associated with each \"i_key\")\n",
    "        print(j_value)                         # printing out the values based on the key - variable \"i_key\""
   ]
  }
 ],
 "metadata": {
  "colab": {
   "collapsed_sections": [],
   "name": "Conditional Statements and For Loops.ipynb",
   "provenance": []
  },
  "kernelspec": {
   "display_name": "Python 3 (ipykernel)",
   "language": "python",
   "name": "python3"
  },
  "language_info": {
   "codemirror_mode": {
    "name": "ipython",
    "version": 3
   },
   "file_extension": ".py",
   "mimetype": "text/x-python",
   "name": "python",
   "nbconvert_exporter": "python",
   "pygments_lexer": "ipython3",
   "version": "3.8.11"
  }
 },
 "nbformat": 4,
 "nbformat_minor": 5
}
