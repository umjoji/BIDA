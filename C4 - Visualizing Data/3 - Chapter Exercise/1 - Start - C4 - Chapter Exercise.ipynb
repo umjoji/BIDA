{
 "cells": [
  {
   "cell_type": "markdown",
   "id": "f11dbe9e",
   "metadata": {},
   "source": [
    "# Chapter 4"
   ]
  },
  {
   "cell_type": "code",
   "execution_count": null,
   "id": "16518321",
   "metadata": {},
   "outputs": [],
   "source": [
    "import numpy as np\n",
    "import pandas as pd\n",
    "import seaborn as sns\n",
    "import matplotlib.pyplot as plt"
   ]
  },
  {
   "cell_type": "code",
   "execution_count": null,
   "id": "4089fa14",
   "metadata": {},
   "outputs": [],
   "source": [
    "# Import .csv and create df\n",
    "df = pd.read_csv('Chapter Exercise Data.csv')\n",
    "\n",
    "# Fill na values with zeros in df\n",
    "df = df.fillna(0)"
   ]
  },
  {
   "cell_type": "code",
   "execution_count": null,
   "id": "3367273e",
   "metadata": {},
   "outputs": [],
   "source": [
    "# Create the Amount column\n",
    "df['Amount'] = df['PricePerItem']*df['Quantity']\n",
    "\n",
    "# Create the df_50 DataFrame\n",
    "df_50 = df[df['Amount'] >= 50]\n",
    "\n",
    "# Remove the Shipping Distance column\n",
    "df = df.drop('ShippingDistance', axis=1)\n",
    "\n",
    "# Create count_of_quantity series\n",
    "Count_of_quantity =  df.groupby('Quantity')['OrderID'].count()"
   ]
  },
  {
   "cell_type": "markdown",
   "id": "d0f95c7f",
   "metadata": {},
   "source": [
    "1. John wants to see the number of products contained in each order - the distribution of quantity. Create a histogram on the Quantity column from the df DataFrame."
   ]
  },
  {
   "cell_type": "code",
   "execution_count": null,
   "id": "5c329c7c",
   "metadata": {},
   "outputs": [],
   "source": []
  },
  {
   "cell_type": "markdown",
   "id": "ab37c12b",
   "metadata": {},
   "source": [
    "2. John would like to know how many orders each customers has placed. Create a bar plot to show this – each bar should be the number of orders, aggregated by the count of customers who placed that many orders."
   ]
  },
  {
   "cell_type": "code",
   "execution_count": null,
   "id": "8fbf4ddf",
   "metadata": {},
   "outputs": [],
   "source": [
    "# Count number of OrderID for each CustomerID\n",
    "\n",
    "\n",
    "# Count number of Customers for each Order Quantity\n",
    "\n",
    "\n",
    "# Create bar plot\n"
   ]
  },
  {
   "cell_type": "markdown",
   "id": "55f4ef7e",
   "metadata": {},
   "source": [
    "3. John wants to know the relationship between the quantity of products in an order and the amount paid for that order. Create a scatter plot of Quantity vs Amount."
   ]
  },
  {
   "cell_type": "code",
   "execution_count": null,
   "id": "5246000c",
   "metadata": {},
   "outputs": [],
   "source": []
  }
 ],
 "metadata": {
  "kernelspec": {
   "display_name": "Python 3",
   "language": "python",
   "name": "python3"
  },
  "language_info": {
   "codemirror_mode": {
    "name": "ipython",
    "version": 3
   },
   "file_extension": ".py",
   "mimetype": "text/x-python",
   "name": "python",
   "nbconvert_exporter": "python",
   "pygments_lexer": "ipython3",
   "version": "3.8.8"
  }
 },
 "nbformat": 4,
 "nbformat_minor": 5
}
