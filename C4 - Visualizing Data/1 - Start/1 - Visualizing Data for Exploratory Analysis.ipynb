{
 "cells": [
  {
   "cell_type": "markdown",
   "metadata": {
    "id": "XPNfn8Yhvysq"
   },
   "source": [
    "# Visualizing Data for Exploratory Analysis\n",
    "In this chapter we will explore two more Python packages: Matplotlib and Seaborn. Both of them are data visualization tools in Python that helps us create informative charts and graphs. \n",
    "\n",
    "To start, we'll import all of the packages that we'll use in this chapter. Import numpy as np and pandas as pd. Then, we'll import a module inside the `matplotlib` package called `pyplot`, and alias it as `plt`. We'll also import `seaborn` as `sns`. \n",
    "\n",
    "After importing the packages, we need to add one more line of code: %matplotlib inline. With this line of code, the plot output will be displayed in Jupyter Notebook directly below the code cell that produces it. The plots will also be stored in the notebook document."
   ]
  },
  {
   "cell_type": "code",
   "execution_count": null,
   "metadata": {
    "id": "sR39MP8jv0m2"
   },
   "outputs": [],
   "source": [
    "# Import packages\n",
    "import numpy as np\n",
    "import pandas as pd\n"
   ]
  },
  {
   "cell_type": "markdown",
   "metadata": {
    "id": "RR3l1KL9xQMW"
   },
   "source": [
    "We will continue to work with financial data throughout this chapter, using the Pandas DataReader package once again to connect to data from Yahoo Finance. \n",
    "\n",
    "We will start by creating three separate DataFrames that contain information for stocks and bonds. We are going to import one column for each DataFrame, the adjusted close of the stock or bond for each day."
   ]
  },
  {
   "cell_type": "code",
   "execution_count": null,
   "metadata": {
    "id": "HHzy-6soFZxr"
   },
   "outputs": [],
   "source": [
    "import pandas_datareader.data as pdr\n",
    "\n",
    "# Setting dates for the DataFrames\n",
    "\n",
    "\n",
    "# Using 'SPY ETF' as a proxy for general market\n",
    "\n",
    "\n",
    "# Using '20 year ETF' as a proxy for bonds\n",
    "\n",
    "\n",
    "# Using 'USO ETF' as a proxy for the price of oil\n",
    "\n",
    "\n",
    "print(stocks.head())\n",
    "print(bonds.head())\n",
    "print(oil.head())"
   ]
  },
  {
   "cell_type": "markdown",
   "metadata": {
    "id": "3vrWaIpeObhY"
   },
   "source": [
    "Currently, the `Adj Close` column is the value of the stock for each day. For this example, let's change the adjusted close to a percent change from the previous day. We can make this change by using the `pct_change()` function from pandas."
   ]
  },
  {
   "cell_type": "code",
   "execution_count": null,
   "metadata": {
    "id": "_3RMIxEANvmb"
   },
   "outputs": [],
   "source": [
    "# Converting Adj Close to percent returns\n",
    "\n",
    "\n",
    "print(stocks.head())\n",
    "print(bonds.head())\n",
    "print(oil.head())"
   ]
  },
  {
   "cell_type": "markdown",
   "metadata": {
    "id": "nVOcOOrJOHes"
   },
   "source": [
    "Let's create one more DataFrame by concatenanting `stocks`, `bonds`, and `oil` into `stocksandBonds`. This DataFrame will have the date as the index and three columns: the percent change of the adjusted close for the stocks."
   ]
  },
  {
   "cell_type": "code",
   "execution_count": null,
   "metadata": {
    "colab": {
     "base_uri": "https://localhost:8080/",
     "height": 235
    },
    "executionInfo": {
     "elapsed": 4138,
     "status": "ok",
     "timestamp": 1610419835603,
     "user": {
      "displayName": "Lester Leong",
      "photoUrl": "https://lh3.googleusercontent.com/a-/AOh14GhESsAP_U-p-CX8EsBjBg4EszjEo6Qb0zr-LMf14g=s64",
      "userId": "17427307644910609596"
     },
     "user_tz": 360
    },
    "id": "u4fOgZGe09hN",
    "outputId": "f8a58bab-b1f8-42b1-e26c-a2588ab59b69"
   },
   "outputs": [],
   "source": [
    "# Using prior example and concating returns column wise and keeping matching dates\n",
    "\n",
    "\n",
    "# Renaming columns\n"
   ]
  },
  {
   "cell_type": "markdown",
   "metadata": {
    "id": "5thFJuzGPHVY"
   },
   "source": [
    "Now we have `bonds`, `stocks`, `oil`, and `stocksandBonds` available for us to visualize."
   ]
  },
  {
   "cell_type": "markdown",
   "metadata": {
    "id": "AegGJZnnxQMX"
   },
   "source": [
    "# Creating Histograms\n",
    "In this lesson we'll create some histograms, also know as distribution plots. This type of graph visualizes how often a certain value occurs in our dataset. The frequency of each value is plotted, so we can see the distrubution of the values."
   ]
  },
  {
   "cell_type": "code",
   "execution_count": null,
   "metadata": {
    "colab": {
     "base_uri": "https://localhost:8080/",
     "height": 350
    },
    "executionInfo": {
     "elapsed": 4700,
     "status": "ok",
     "timestamp": 1610419836186,
     "user": {
      "displayName": "Lester Leong",
      "photoUrl": "https://lh3.googleusercontent.com/a-/AOh14GhESsAP_U-p-CX8EsBjBg4EszjEo6Qb0zr-LMf14g=s64",
      "userId": "17427307644910609596"
     },
     "user_tz": 360
    },
    "id": "kyqsCrQq1teC",
    "outputId": "b98ebc4f-cacb-44b5-e714-3201bc3d6e88"
   },
   "outputs": [],
   "source": [
    "# Create a histogram, or distribution plot, for stocks\n"
   ]
  },
  {
   "cell_type": "markdown",
   "metadata": {},
   "source": [
    "One of the main arguments we can use the control the display of our histograms is `bins`. This defines the number of columns that we want to appear in our histogram. This can help us dig into the distribution of our data in more detail, or provide a more high-level view."
   ]
  },
  {
   "cell_type": "code",
   "execution_count": null,
   "metadata": {
    "colab": {
     "base_uri": "https://localhost:8080/",
     "height": 350
    },
    "executionInfo": {
     "elapsed": 5369,
     "status": "ok",
     "timestamp": 1610419836880,
     "user": {
      "displayName": "Lester Leong",
      "photoUrl": "https://lh3.googleusercontent.com/a-/AOh14GhESsAP_U-p-CX8EsBjBg4EszjEo6Qb0zr-LMf14g=s64",
      "userId": "17427307644910609596"
     },
     "user_tz": 360
    },
    "id": "am1wdfAa2f_B",
    "outputId": "2522ab1e-f3d3-49d4-b9e0-26da22feaacf"
   },
   "outputs": [],
   "source": [
    "# Set the number of bins, or columns, to appear in the plot\n"
   ]
  },
  {
   "cell_type": "markdown",
   "metadata": {
    "id": "T0GNrqyxgeFn"
   },
   "source": [
    "We can also view multiple columns from our data set in a single histogram. To display all three of our stocks, we can input the name of our DataFrame without specifying any columns. We can control how we want to the distribution of the different columns to display. To do this, we use the `multiple` argument, to define if the columns should overlap each other, or go side by side."
   ]
  },
  {
   "cell_type": "code",
   "execution_count": null,
   "metadata": {},
   "outputs": [],
   "source": [
    "# Create a histogram for all columns in the DataFrame\n"
   ]
  },
  {
   "cell_type": "code",
   "execution_count": null,
   "metadata": {
    "colab": {
     "base_uri": "https://localhost:8080/",
     "height": 386
    },
    "executionInfo": {
     "elapsed": 7750,
     "status": "ok",
     "timestamp": 1610419839292,
     "user": {
      "displayName": "Lester Leong",
      "photoUrl": "https://lh3.googleusercontent.com/a-/AOh14GhESsAP_U-p-CX8EsBjBg4EszjEo6Qb0zr-LMf14g=s64",
      "userId": "17427307644910609596"
     },
     "user_tz": 360
    },
    "id": "DRwmw0oZDeQm",
    "outputId": "1bbc98d1-d236-4260-c82f-4a2975798760"
   },
   "outputs": [],
   "source": [
    "# Create a histogram for stocks and bonds, using multiple column names in a list\n"
   ]
  },
  {
   "cell_type": "markdown",
   "metadata": {
    "id": "IFKqx3-_xQMZ"
   },
   "source": [
    "# Creating Box Plots\n",
    "A box plot, or a box and whisker plot, is used to visualize the distribution of data. This visual uses some summary statistics in order to compare the distribution of different categories, or columns, in a data set:\n",
    "* Minimum\n",
    "* Q1 - first quartile\n",
    "* Q2 - Median\n",
    "* Q3 - third quartile\n",
    "* Maximum\n",
    "\n",
    "These five points are located at each end of the whiskers, each end of the box, and the line in the middle of the box. Outliers are shown as points that occur outside of the minimum and maximum values."
   ]
  },
  {
   "cell_type": "code",
   "execution_count": null,
   "metadata": {
    "colab": {
     "base_uri": "https://localhost:8080/",
     "height": 282
    },
    "executionInfo": {
     "elapsed": 8189,
     "status": "ok",
     "timestamp": 1610419839763,
     "user": {
      "displayName": "Lester Leong",
      "photoUrl": "https://lh3.googleusercontent.com/a-/AOh14GhESsAP_U-p-CX8EsBjBg4EszjEo6Qb0zr-LMf14g=s64",
      "userId": "17427307644910609596"
     },
     "user_tz": 360
    },
    "id": "lcjZTTcx6Ull",
    "outputId": "bbcefa3d-df0a-45be-bca8-938905f799d0",
    "scrolled": true
   },
   "outputs": [],
   "source": [
    "# Visual summary statistics of each category\n"
   ]
  },
  {
   "cell_type": "code",
   "execution_count": null,
   "metadata": {},
   "outputs": [],
   "source": [
    "# Select two categories to compare\n"
   ]
  },
  {
   "cell_type": "markdown",
   "metadata": {
    "id": "w7u-7b0CxQMa"
   },
   "source": [
    "# Creating a Pairplot\n",
    "A pairplot allows us to view multiple scatter and distribution plots in a single visual. This way, we can see multiple relationships, between different variables, in one view."
   ]
  },
  {
   "cell_type": "code",
   "execution_count": null,
   "metadata": {
    "colab": {
     "base_uri": "https://localhost:8080/",
     "height": 567
    },
    "executionInfo": {
     "elapsed": 13967,
     "status": "ok",
     "timestamp": 1610419845557,
     "user": {
      "displayName": "Lester Leong",
      "photoUrl": "https://lh3.googleusercontent.com/a-/AOh14GhESsAP_U-p-CX8EsBjBg4EszjEo6Qb0zr-LMf14g=s64",
      "userId": "17427307644910609596"
     },
     "user_tz": 360
    },
    "id": "g8x6WvS466HM",
    "outputId": "d221b4c9-b77c-429d-9962-985f74b56567"
   },
   "outputs": [],
   "source": []
  },
  {
   "cell_type": "markdown",
   "metadata": {},
   "source": [
    "In the diagonal line, we see a distribution plot of a single column. In the other sections, we have a scatter plot that shows the relationship between two different variables. We'll cover scatter plots in more detail later in the course."
   ]
  },
  {
   "cell_type": "markdown",
   "metadata": {
    "id": "wngFM3SqbNQ9"
   },
   "source": [
    "# Creating a Correlation Matrix Heatmap\n",
    "As we saw in the previous chapter, correlation is a method to evaluate the strength of a relationship between two continous variables. Correlation shows not only the direction between two variables, but also the magnitude of the relationship. `Correlation` values are between -1 and 1, with -1 being a perfect negative correlation, and 1 being a perfect positive correlation. A value of 0 indicates that there is no relationship between the two variables."
   ]
  },
  {
   "cell_type": "code",
   "execution_count": null,
   "metadata": {
    "id": "LhiK8s-CbOEP"
   },
   "outputs": [],
   "source": [
    "# Correlation matrix for the three stocks\n"
   ]
  },
  {
   "cell_type": "code",
   "execution_count": null,
   "metadata": {},
   "outputs": [],
   "source": [
    "# Visualize the correlation matrix\n"
   ]
  },
  {
   "cell_type": "markdown",
   "metadata": {},
   "source": [
    "Three common arguments to control the display of a heatmap are:\n",
    "* vmin & vmax\n",
    "* annot\n",
    "* cmap\n",
    "\n",
    "`vmin` and `vmax` control the scale of the heatmap. As correlation is measured between -1 and 1, we can update the minimum value to -1.\n",
    "\n",
    "The `annot` argument allows us to display the values of a section in the heatmap. We can set this to `True` to see the correlation coefficient for each section.\n",
    "\n",
    "The `cmap` argument lets us set the color of the scale in the heatmap. There are several built-in options to choose from. We can update our heatmap to use the `coolwarm` option."
   ]
  },
  {
   "cell_type": "code",
   "execution_count": null,
   "metadata": {},
   "outputs": [],
   "source": [
    "# Update the correlation matrix\n"
   ]
  }
 ],
 "metadata": {
  "anaconda-cloud": {},
  "colab": {
   "collapsed_sections": [],
   "name": "1 - Visualizing Data for Exploratory Analysis.ipynb",
   "provenance": []
  },
  "kernelspec": {
   "display_name": "Python 3 (ipykernel)",
   "language": "python",
   "name": "python3"
  },
  "language_info": {
   "codemirror_mode": {
    "name": "ipython",
    "version": 3
   },
   "file_extension": ".py",
   "mimetype": "text/x-python",
   "name": "python",
   "nbconvert_exporter": "python",
   "pygments_lexer": "ipython3",
   "version": "3.8.11"
  }
 },
 "nbformat": 4,
 "nbformat_minor": 1
}
