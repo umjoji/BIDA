{
 "cells": [
  {
   "cell_type": "markdown",
   "metadata": {
    "id": "XPNfn8Yhvysq"
   },
   "source": [
    "# Visualizing Data to Share Insights\n",
    "Sharing your insights is a key step in the data science process. The ability to clearly and accurately communicate your findings is crucial! This step bridges the gap between analyzing data and helping drive better decision making and business value. Our efforts of loading, cleaning, transforming, and analyzing data will be far less impactful if we cannot effectively communicate the key messages.\n",
    "\n",
    "We will focus on three of the most common data visualizations:\n",
    "* line charts to show trends\n",
    "* bar plots to show aggregations by category\n",
    "* scatter plots to show relationships between variables\n",
    "\n",
    "As we go through each visual, we will take a deeper look at some of the main formatting parameters available to us. This will allow us to further control the exact look of each visual."
   ]
  },
  {
   "cell_type": "markdown",
   "metadata": {
    "id": "LbDwmpfQdCek"
   },
   "source": [
    "Let's start by importing the packages that we need and creating our `stocksAndBonds` DataFrame again. This time, for the first part of this notebook, we will keep the `Adj Close` as the original value."
   ]
  },
  {
   "cell_type": "code",
   "execution_count": null,
   "metadata": {
    "id": "sR39MP8jv0m2"
   },
   "outputs": [],
   "source": [
    "# Import Packages\n",
    "import numpy as np\n",
    "import pandas as pd\n",
    "import matplotlib.pyplot as plt\n",
    "import seaborn as sns\n",
    "import pandas_datareader.data as pdr\n",
    "%matplotlib inline"
   ]
  },
  {
   "cell_type": "code",
   "execution_count": null,
   "metadata": {
    "id": "cz27IKw_XiEn"
   },
   "outputs": [],
   "source": [
    "# Create the stocksAndBonds DataFrame\n",
    "startdate = '2021-01-01'\n",
    "enddate = '2022-12-31'\n",
    "\n",
    "stocks = pdr.DataReader('SPY','yahoo', startdate, enddate)[['Adj Close']]\n",
    "bonds = pdr.DataReader('TLT','yahoo', startdate, enddate)[['Adj Close']]\n",
    "oil = pdr.DataReader('USO','yahoo', startdate, enddate)[['Adj Close']]\n",
    "\n",
    "stocksAndBonds = pd.concat([stocks, bonds, oil], axis=1, join='inner')\n",
    "\n",
    "stocksAndBonds.columns = ['SPY','TLT','USO']\n",
    "\n",
    "stocksAndBonds.head()"
   ]
  },
  {
   "cell_type": "markdown",
   "metadata": {
    "id": "StYEUy4qdIW_"
   },
   "source": [
    "# Creating Line Charts\n",
    "For our first example, we can create a line chart to show the trend in the value of 'SPY' over time. We can create two Series for our visual: years and revenue. \n",
    "\n",
    "We'll use the plot function from matplotlib. This will draw a line from point to point in our data. The values in x will be shown on the horizontal axis and the values in y will be shown on the vertical axis."
   ]
  },
  {
   "cell_type": "code",
   "execution_count": null,
   "metadata": {
    "colab": {
     "base_uri": "https://localhost:8080/",
     "height": 282
    },
    "executionInfo": {
     "elapsed": 1620,
     "status": "ok",
     "timestamp": 1610419832995,
     "user": {
      "displayName": "Lester Leong",
      "photoUrl": "https://lh3.googleusercontent.com/a-/AOh14GhESsAP_U-p-CX8EsBjBg4EszjEo6Qb0zr-LMf14g=s64",
      "userId": "17427307644910609596"
     },
     "user_tz": 360
    },
    "id": "4kxqXzoQw6o3",
    "outputId": "ec2e0b23-d008-46bc-d282-e8fce7645986"
   },
   "outputs": [],
   "source": [
    "# Create years and stock_value to populate the line chart\n"
   ]
  },
  {
   "cell_type": "code",
   "execution_count": null,
   "metadata": {
    "colab": {
     "base_uri": "https://localhost:8080/",
     "height": 265
    },
    "executionInfo": {
     "elapsed": 1609,
     "status": "ok",
     "timestamp": 1610419832996,
     "user": {
      "displayName": "Lester Leong",
      "photoUrl": "https://lh3.googleusercontent.com/a-/AOh14GhESsAP_U-p-CX8EsBjBg4EszjEo6Qb0zr-LMf14g=s64",
      "userId": "17427307644910609596"
     },
     "user_tz": 360
    },
    "id": "XFJnkejjw-8k",
    "outputId": "f1eeeaf9-e025-4dfa-bf35-f114fa28b2bb"
   },
   "outputs": [],
   "source": [
    "# Add semicolon to hide matplotlib text output\n"
   ]
  },
  {
   "cell_type": "markdown",
   "metadata": {
    "id": "1CpVHQbsxQMU"
   },
   "source": [
    "# Formatting Line Charts\n"
   ]
  },
  {
   "cell_type": "markdown",
   "metadata": {
    "id": "F13eQKUZxQMU"
   },
   "source": [
    "We've created a simple chart using pyplot in Python. Now, let's look at how to format the plot. We'll use the same example as above and create a plot using x and y. We'll use the `title` function to add a title to the plot, use the `xlabel` function to label the x axis, and use the `ylabel` function to add a label for the y axis. We can also use the `xticks` function to change the appearance of the labels on the x axis."
   ]
  },
  {
   "cell_type": "code",
   "execution_count": null,
   "metadata": {
    "colab": {
     "base_uri": "https://localhost:8080/",
     "height": 322
    },
    "executionInfo": {
     "elapsed": 1749,
     "status": "ok",
     "timestamp": 1610419833147,
     "user": {
      "displayName": "Lester Leong",
      "photoUrl": "https://lh3.googleusercontent.com/a-/AOh14GhESsAP_U-p-CX8EsBjBg4EszjEo6Qb0zr-LMf14g=s64",
      "userId": "17427307644910609596"
     },
     "user_tz": 360
    },
    "id": "vTEPw8LkxSzd",
    "outputId": "9f9c6aa3-aac6-436b-93c1-97d28353c03e"
   },
   "outputs": [],
   "source": [
    "\n",
    "\n",
    "# Add titles and labels\n"
   ]
  },
  {
   "cell_type": "markdown",
   "metadata": {
    "id": "OQp4gnOxxQMV"
   },
   "source": [
    "Next, we can control the size of the plot by using the `figure` function and the `figsize` parameter. We can use this to make the size of our plot bigger and easier to read. The default values for figsize are 6.4 and 4.8, so we can increase these values to increase the size of our chart. We can also change the color of the line chart by using the `color` parameter in the plot function."
   ]
  },
  {
   "cell_type": "code",
   "execution_count": null,
   "metadata": {
    "colab": {
     "base_uri": "https://localhost:8080/",
     "height": 322
    },
    "executionInfo": {
     "elapsed": 2010,
     "status": "ok",
     "timestamp": 1610419833430,
     "user": {
      "displayName": "Lester Leong",
      "photoUrl": "https://lh3.googleusercontent.com/a-/AOh14GhESsAP_U-p-CX8EsBjBg4EszjEo6Qb0zr-LMf14g=s64",
      "userId": "17427307644910609596"
     },
     "user_tz": 360
    },
    "id": "7WumWamHxWr9",
    "outputId": "ca291238-1591-4ff1-e74c-217a71363983"
   },
   "outputs": [],
   "source": [
    "# Set size of plot\n",
    "\n",
    "\n",
    "# Change line color\n",
    "\n",
    "\n",
    "# Add titles and labels\n"
   ]
  },
  {
   "cell_type": "markdown",
   "metadata": {
    "id": "ldWvM_PsxQMV"
   },
   "source": [
    "We can further customize the look of our line chart by updating the `marker`, `markersize`, and `linestyle` parameters inside the plot function. We will add a circle marker to each data point in the line, set the size of this marker, and change the line from solid to dashed."
   ]
  },
  {
   "cell_type": "code",
   "execution_count": null,
   "metadata": {
    "colab": {
     "base_uri": "https://localhost:8080/",
     "height": 322
    },
    "executionInfo": {
     "elapsed": 2399,
     "status": "ok",
     "timestamp": 1610419833830,
     "user": {
      "displayName": "Lester Leong",
      "photoUrl": "https://lh3.googleusercontent.com/a-/AOh14GhESsAP_U-p-CX8EsBjBg4EszjEo6Qb0zr-LMf14g=s64",
      "userId": "17427307644910609596"
     },
     "user_tz": 360
    },
    "id": "UAjou-0Lxct5",
    "outputId": "4e194539-05c4-435f-b433-a957c33056a8"
   },
   "outputs": [],
   "source": [
    "# Set size of plot\n",
    "\n",
    "\n",
    "# Change the line design\n",
    "\n",
    "\n",
    "# Add titles and labels\n"
   ]
  },
  {
   "cell_type": "markdown",
   "metadata": {
    "id": "fwXOxKXmxQMU"
   },
   "source": [
    "In an earlier plot, we updated the `figsize` of our visual. However, in each of the examples so far, the x and y axis have remained the same. They have been generated automatically for us, based on the values in our data set. We have the ability to control the limits of the chart using the `xlim` and `ylim` functions.\n",
    "\n",
    "Let's update the y-axis to span between 340 and 500. We can see that the shape of the line stays the same, but the minimum and maximum value of the axis changed."
   ]
  },
  {
   "cell_type": "code",
   "execution_count": null,
   "metadata": {
    "colab": {
     "base_uri": "https://localhost:8080/",
     "height": 317
    },
    "executionInfo": {
     "elapsed": 1888,
     "status": "ok",
     "timestamp": 1610419833297,
     "user": {
      "displayName": "Lester Leong",
      "photoUrl": "https://lh3.googleusercontent.com/a-/AOh14GhESsAP_U-p-CX8EsBjBg4EszjEo6Qb0zr-LMf14g=s64",
      "userId": "17427307644910609596"
     },
     "user_tz": 360
    },
    "id": "dzJikFrHxUr5",
    "outputId": "dc1e035d-b415-4120-e4b1-b51cdc48858f"
   },
   "outputs": [],
   "source": [
    "# Set size of plot\n",
    "\n",
    "\n",
    "# Add titles and labels\n",
    "\n",
    "\n",
    "# Add limits to the axes\n"
   ]
  },
  {
   "cell_type": "markdown",
   "metadata": {
    "id": "tFa0-L1pnI9s"
   },
   "source": [
    "# Creating Bar Plots\n",
    "Bar plots allow us to visualize a comparison between different categories or columns in our data set. Typically, we would aggregate multiple values within a category and compare these aggregates across categories. In our example, we can calculate the mean value for each of our three stocks.\n",
    "\n",
    "Let's start by calculating the mean."
   ]
  },
  {
   "cell_type": "code",
   "execution_count": null,
   "metadata": {
    "colab": {
     "base_uri": "https://localhost:8080/",
     "height": 282
    },
    "executionInfo": {
     "elapsed": 7894,
     "status": "ok",
     "timestamp": 1610419839444,
     "user": {
      "displayName": "Lester Leong",
      "photoUrl": "https://lh3.googleusercontent.com/a-/AOh14GhESsAP_U-p-CX8EsBjBg4EszjEo6Qb0zr-LMf14g=s64",
      "userId": "17427307644910609596"
     },
     "user_tz": 360
    },
    "id": "VReC_UUH3SR-",
    "outputId": "2203ba22-06da-4840-b286-af28941f51e8"
   },
   "outputs": [],
   "source": [
    "# Calculate the mean Adj Close for each stock in stocksAndBonds\n"
   ]
  },
  {
   "cell_type": "code",
   "execution_count": null,
   "metadata": {},
   "outputs": [],
   "source": [
    "# Convert stock_mean into a DataFrame: bar_plot\n"
   ]
  },
  {
   "cell_type": "code",
   "execution_count": null,
   "metadata": {},
   "outputs": [],
   "source": [
    "# Set plot size\n",
    "plt.figure(figsize=(12, 8))\n",
    "\n",
    "# Create bar plot to compare the means of our stocks\n"
   ]
  },
  {
   "cell_type": "markdown",
   "metadata": {},
   "source": [
    "# Formatting Bar Plots\n",
    "We've created a standard bar plot using the seaborn `barplot()` function. To start to change the appearance of bar plot, we can change some parameters from their default setting and add some other functions as well.\n",
    "\n",
    "The first parameter that we can update is `palette`. This changes the color of the bars in the bar plot. There are lots of built-in options to choose from. A list of palettes from the Seaborn documentation can be found here: https://seaborn.pydata.org/tutorial/color_palettes.html. In our example, we can look at the `coolwarm` palette that we used for our correlation matrix heatmap. We can also use the `colorblind` palette, which ensures that our visuals are accessible to all users."
   ]
  },
  {
   "cell_type": "code",
   "execution_count": null,
   "metadata": {
    "colab": {
     "base_uri": "https://localhost:8080/",
     "height": 282
    },
    "executionInfo": {
     "elapsed": 8036,
     "status": "ok",
     "timestamp": 1610419839597,
     "user": {
      "displayName": "Lester Leong",
      "photoUrl": "https://lh3.googleusercontent.com/a-/AOh14GhESsAP_U-p-CX8EsBjBg4EszjEo6Qb0zr-LMf14g=s64",
      "userId": "17427307644910609596"
     },
     "user_tz": 360
    },
    "id": "eP-5Dfem6Eek",
    "outputId": "6134e446-498c-4e7a-af88-f508f6d02403",
    "scrolled": false
   },
   "outputs": [],
   "source": [
    "# Set plot size\n",
    "plt.figure(figsize=(12, 8))\n",
    "\n",
    "# Create bar plot with 'coolwarm' palette\n",
    "sns.barplot(y=bar_plot.index, x='mean_value', data=bar_plot)\n",
    "\n",
    "# Add titles and labels\n",
    "plt.title('Mean Adj Close for stocks')\n",
    "plt.ylabel('Stocks')\n",
    "plt.xlabel('Mean Adj Close');"
   ]
  },
  {
   "cell_type": "code",
   "execution_count": null,
   "metadata": {
    "scrolled": false
   },
   "outputs": [],
   "source": []
  },
  {
   "cell_type": "markdown",
   "metadata": {},
   "source": [
    "Another formatting option we have with bar plots is to change the orientation. Rather than the category on the x axis and the value on the y axis for a vertical plot, we can switch the two parameters to have a horizontal bar plot. When we change these two arguments, we need to remember to update the labels as well!"
   ]
  },
  {
   "cell_type": "code",
   "execution_count": null,
   "metadata": {},
   "outputs": [],
   "source": []
  },
  {
   "cell_type": "markdown",
   "metadata": {},
   "source": [
    "A further function we can use to enhance our visuals is `annotate()`. This matplotlib function allows us to define the text and location in our plot to add a descriptive annotation. We can use this to highlight a key insight, or further explain what is happening in our visual."
   ]
  },
  {
   "cell_type": "code",
   "execution_count": null,
   "metadata": {},
   "outputs": [],
   "source": []
  },
  {
   "cell_type": "markdown",
   "metadata": {
    "id": "y7GiqqjSxQMW"
   },
   "source": [
    "# Creating Scatter Plots\n",
    "In this lesson, we'll demonstrate how to create a scatter plot using `scatterplot()` from Seaborn. Scatter plots are commonly used to show the relationship between two variables, or two sets of data.\n",
    "\n",
    "It might be challenging to compare the stocks with our current data set. To make the comparison easier, let's convert the adjusted close to a percent change again. This way, we can compare the day over day percent change of the stocks, instead of the values.\n",
    "\n",
    "To do this, let's create a new DataFrame: `stocksAndBonds_pct`."
   ]
  },
  {
   "cell_type": "code",
   "execution_count": null,
   "metadata": {},
   "outputs": [],
   "source": []
  },
  {
   "cell_type": "markdown",
   "metadata": {
    "id": "q6a1W441xQMX"
   },
   "source": [
    "To assign the x axis and y axis, we need to reference a column in the `stocksAndBonds_pct` DataFrame. We want the values in 'SPY' column to be on the x axis, and the values in the 'TLT' column to be on the y axis."
   ]
  },
  {
   "cell_type": "code",
   "execution_count": null,
   "metadata": {},
   "outputs": [],
   "source": [
    "# Set plot size\n",
    "plt.figure(figsize=(12, 8))\n",
    "\n",
    "# Scatter plot with seaborn.scatterplot()\n"
   ]
  },
  {
   "cell_type": "markdown",
   "metadata": {},
   "source": [
    "# Formatting Scatter Plots\n",
    "Three common formatting options used in scatter plots are:\n",
    "* style\n",
    "* hue\n",
    "* size\n",
    "\n",
    "We typically use an additional column in the data set to populate these arguments. To help better illustrate this, let's update the `stocksAndBonds_pct` DataFrame. We'll add an additional column that contains the year from the date of the percent change for each stock."
   ]
  },
  {
   "cell_type": "code",
   "execution_count": null,
   "metadata": {},
   "outputs": [],
   "source": []
  },
  {
   "cell_type": "markdown",
   "metadata": {},
   "source": [
    "The `style` parameter can be used to control the appearance of each marker in the scatter plot. Let's add the new `Year` column to the style parameter. The data points will change shape, depending on which year the observation was made."
   ]
  },
  {
   "cell_type": "code",
   "execution_count": null,
   "metadata": {},
   "outputs": [],
   "source": [
    "# Set plot size\n",
    "plt.figure(figsize=(12, 8))\n",
    "\n",
    "# Create scatter plot with style parameter\n",
    "sns.scatterplot(x='SPY', y='TLT', data=stocksAndBonds_pct)\n",
    "\n",
    "# Add titles and labels\n",
    "plt.title('Percent Change in Stocks vs Bonds');"
   ]
  },
  {
   "cell_type": "markdown",
   "metadata": {},
   "source": [
    "The `hue` parameter can be used to control the color of each data point in the plot. If we add `Year` to this parameter, the data points are light red if they are from 2021 and a darker color if they are from 2022."
   ]
  },
  {
   "cell_type": "code",
   "execution_count": null,
   "metadata": {},
   "outputs": [],
   "source": []
  },
  {
   "cell_type": "markdown",
   "metadata": {},
   "source": [
    "Finally, we have the `size` parameter. This controls the size of each data point in the scatter plot. We can use the `Year` column again in this argument. Data points from 2022 will appear larger than data points from 2021."
   ]
  },
  {
   "cell_type": "code",
   "execution_count": null,
   "metadata": {},
   "outputs": [],
   "source": []
  },
  {
   "cell_type": "markdown",
   "metadata": {},
   "source": [
    "We can combine these parameters together within a single plot. So far, we have used the `Year` column to demonstrate each of our parameters. It consists of only two values. But we can also use a continuous column for these parameters as well. We can use the `USO` column from our DataFrame. A continuous column will not make sense for the `style` argument, as we do not want a lot of different shapes in our visual. But let's update `hue` and `size` with this continuous column."
   ]
  },
  {
   "cell_type": "code",
   "execution_count": null,
   "metadata": {},
   "outputs": [],
   "source": []
  }
 ],
 "metadata": {
  "anaconda-cloud": {},
  "colab": {
   "collapsed_sections": [],
   "name": "2 - Visualizing Data for Sharing Insights.ipynb",
   "provenance": []
  },
  "kernelspec": {
   "display_name": "Python 3 (ipykernel)",
   "language": "python",
   "name": "python3"
  },
  "language_info": {
   "codemirror_mode": {
    "name": "ipython",
    "version": 3
   },
   "file_extension": ".py",
   "mimetype": "text/x-python",
   "name": "python",
   "nbconvert_exporter": "python",
   "pygments_lexer": "ipython3",
   "version": "3.8.11"
  }
 },
 "nbformat": 4,
 "nbformat_minor": 1
}
