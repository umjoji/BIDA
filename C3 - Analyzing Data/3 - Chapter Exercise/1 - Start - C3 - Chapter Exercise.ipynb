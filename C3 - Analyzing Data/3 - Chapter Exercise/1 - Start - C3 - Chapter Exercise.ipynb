{
 "cells": [
  {
   "cell_type": "markdown",
   "id": "f11dbe9e",
   "metadata": {},
   "source": [
    "## Chapter 3"
   ]
  },
  {
   "cell_type": "code",
   "execution_count": null,
   "id": "16518321",
   "metadata": {},
   "outputs": [],
   "source": [
    "import numpy as np\n",
    "import pandas as pd"
   ]
  },
  {
   "cell_type": "code",
   "execution_count": null,
   "id": "4089fa14",
   "metadata": {},
   "outputs": [],
   "source": [
    "# Import .csv and create df\n",
    "df = pd.read_csv('Chapter Exercise Data.csv')\n",
    "\n",
    "# Fill na values with zeros in df\n",
    "df = df.fillna(0)"
   ]
  },
  {
   "cell_type": "markdown",
   "id": "d0f95c7f",
   "metadata": {},
   "source": [
    "1. John realized that he wanted to add the amount he would make per order onto his DataFrame. Create a new column that displays the amount he would make per order."
   ]
  },
  {
   "cell_type": "code",
   "execution_count": null,
   "id": "5c329c7c",
   "metadata": {
    "scrolled": false
   },
   "outputs": [],
   "source": []
  },
  {
   "cell_type": "markdown",
   "id": "ab37c12b",
   "metadata": {},
   "source": [
    "2. John wants to send out thank you cards to the customers that spent at least $50 on their order. Filter the DataFrame for the list of customer IDs that fit this criteria."
   ]
  },
  {
   "cell_type": "code",
   "execution_count": null,
   "id": "8fbf4ddf",
   "metadata": {
    "scrolled": false
   },
   "outputs": [],
   "source": []
  },
  {
   "cell_type": "markdown",
   "id": "55f4ef7e",
   "metadata": {},
   "source": [
    "3. John wants to send out a gift card for every 300th customer. Find the list of CustomerIDs that qualify for a gift card."
   ]
  },
  {
   "cell_type": "code",
   "execution_count": null,
   "id": "5246000c",
   "metadata": {
    "scrolled": true
   },
   "outputs": [],
   "source": []
  },
  {
   "cell_type": "markdown",
   "id": "4173e8ae",
   "metadata": {},
   "source": [
    "4. Find the average distance that a product travels when shipped."
   ]
  },
  {
   "cell_type": "code",
   "execution_count": null,
   "id": "49f36419",
   "metadata": {},
   "outputs": [],
   "source": []
  },
  {
   "cell_type": "markdown",
   "id": "6768f665",
   "metadata": {},
   "source": [
    "5. John recently hired a courier that delivers all his orders for a flat fee, so he no longer needs to know the shipping distance. Drop the shipping distance column."
   ]
  },
  {
   "cell_type": "code",
   "execution_count": null,
   "id": "bd446ca4",
   "metadata": {
    "scrolled": false
   },
   "outputs": [],
   "source": []
  },
  {
   "cell_type": "markdown",
   "id": "c8fcc9f2",
   "metadata": {},
   "source": [
    "6. John wants to know from his orders what is the most popular order quantity amount. Find the count of each order quantity."
   ]
  },
  {
   "cell_type": "code",
   "execution_count": null,
   "id": "73d2abf3",
   "metadata": {},
   "outputs": [],
   "source": []
  }
 ],
 "metadata": {
  "kernelspec": {
   "display_name": "Python 3 (ipykernel)",
   "language": "python",
   "name": "python3"
  },
  "language_info": {
   "codemirror_mode": {
    "name": "ipython",
    "version": 3
   },
   "file_extension": ".py",
   "mimetype": "text/x-python",
   "name": "python",
   "nbconvert_exporter": "python",
   "pygments_lexer": "ipython3",
   "version": "3.8.11"
  }
 },
 "nbformat": 4,
 "nbformat_minor": 5
}
